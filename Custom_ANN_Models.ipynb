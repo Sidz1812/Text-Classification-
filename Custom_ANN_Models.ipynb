{
  "nbformat": 4,
  "nbformat_minor": 0,
  "metadata": {
    "kernelspec": {
      "display_name": "Python 3",
      "language": "python",
      "name": "python3"
    },
    "language_info": {
      "codemirror_mode": {
        "name": "ipython",
        "version": 3
      },
      "file_extension": ".py",
      "mimetype": "text/x-python",
      "name": "python",
      "nbconvert_exporter": "python",
      "pygments_lexer": "ipython3",
      "version": "3.9.0"
    },
    "colab": {
      "name": "Custom ANN Models.ipynb",
      "provenance": []
    },
    "accelerator": "GPU"
  },
  "cells": [
    {
      "cell_type": "markdown",
      "metadata": {
        "id": "388t_8gVvncM"
      },
      "source": [
        "### The Reuters dataset\n",
        "\n",
        "- _Reuters dataset_, is a set of short newswires and their topics, published by Reuters in 1986.  \n",
        "- There are 46 different topics some topics are more represented than others, but each topic has at least 10 examples in the training set.\n",
        "- The dataset can be loaded using the following script. Specifically, it retrieves 8,982 training examples and 2,246 test examples. The argument `num_words=10000` restricts the data to the 10,000 most frequently occurring words found in the data.\n",
        "\n",
        "Note, here we only use Keras to download the dataset. The deep learning model should be done in PyTorch."
      ]
    },
    {
      "cell_type": "code",
      "metadata": {
        "colab": {
          "base_uri": "https://localhost:8080/"
        },
        "id": "_HNW8xSSG06F",
        "outputId": "b75d708c-ad76-4e84-8fc1-b00461da0c3a"
      },
      "source": [
        "!pip install torchinfo"
      ],
      "execution_count": null,
      "outputs": [
        {
          "output_type": "stream",
          "name": "stdout",
          "text": [
            "Collecting torchinfo\n",
            "  Downloading torchinfo-1.5.4-py3-none-any.whl (19 kB)\n",
            "Installing collected packages: torchinfo\n",
            "Successfully installed torchinfo-1.5.4\n"
          ]
        }
      ]
    },
    {
      "cell_type": "code",
      "metadata": {
        "id": "5uE31_rCvncN"
      },
      "source": [
        "from IPython.core.interactiveshell import InteractiveShell\n",
        "InteractiveShell.ast_node_interactivity = \"all\"\n",
        "\n",
        "import tensorflow.keras\n",
        "from tensorflow.keras.datasets import reuters\n",
        "import pandas as pd\n",
        "\n",
        "from torchinfo import summary\n",
        "\n",
        "import matplotlib.pyplot as plt\n",
        "\n",
        "\n",
        "# add your import statement\n",
        "import numpy as np\n",
        "import torch\n",
        "import torch.nn as nn\n",
        "import torch.optim as optim\n",
        "from torch.utils.data import Dataset, DataLoader, WeightedRandomSampler"
      ],
      "execution_count": null,
      "outputs": []
    },
    {
      "cell_type": "code",
      "metadata": {
        "colab": {
          "base_uri": "https://localhost:8080/"
        },
        "id": "Cd61I8rBvncN",
        "outputId": "a24540c8-246f-4166-bc4f-72c8712a3821"
      },
      "source": [
        "(train_data, train_labels), (test_data, test_labels) = reuters.load_data(num_words=10000)\n",
        "\n",
        "# show the sizes training/testing samples \n",
        "len(train_data)\n",
        "len(test_data)"
      ],
      "execution_count": null,
      "outputs": [
        {
          "output_type": "stream",
          "name": "stdout",
          "text": [
            "Downloading data from https://storage.googleapis.com/tensorflow/tf-keras-datasets/reuters.npz\n",
            "2113536/2110848 [==============================] - 0s 0us/step\n",
            "2121728/2110848 [==============================] - 0s 0us/step\n"
          ]
        },
        {
          "output_type": "execute_result",
          "data": {
            "text/plain": [
              "8982"
            ]
          },
          "metadata": {},
          "execution_count": 3
        },
        {
          "output_type": "execute_result",
          "data": {
            "text/plain": [
              "2246"
            ]
          },
          "metadata": {},
          "execution_count": 3
        }
      ]
    },
    {
      "cell_type": "markdown",
      "metadata": {
        "id": "QliRhYRbvncO"
      },
      "source": [
        "Each example is a list of integers, each corresponds to one word (word indices).  The following shows one example. Also, you can decode it back to words, in case you are curious:"
      ]
    },
    {
      "cell_type": "code",
      "metadata": {
        "colab": {
          "base_uri": "https://localhost:8080/",
          "height": 139
        },
        "id": "Une1Qn0xvncP",
        "outputId": "fe226774-713e-49a9-f824-642ac8ad0099"
      },
      "source": [
        "# show an example from the training dataset\n",
        "print(train_data[10])\n",
        "\n",
        "# retrieve the mapping from words to indices\n",
        "word_index = reuters.get_word_index()\n",
        "\n",
        "# reverse mapping\n",
        "reverse_word_index = dict([(value, key) for (key, value) in word_index.items()])\n",
        "\n",
        "# Note that our indices were offset by 3\n",
        "# because 0, 1 and 2 are reserved indices for \"padding\", \"start of sequence\", and \"unknown\".\n",
        "decoded_newswire = ' '.join([reverse_word_index[i - 3] for i in train_data[0] if (i-3) in reverse_word_index])\n",
        "\n",
        "decoded_newswire"
      ],
      "execution_count": null,
      "outputs": [
        {
          "output_type": "stream",
          "name": "stdout",
          "text": [
            "[1, 245, 273, 207, 156, 53, 74, 160, 26, 14, 46, 296, 26, 39, 74, 2979, 3554, 14, 46, 4689, 4329, 86, 61, 3499, 4795, 14, 61, 451, 4329, 17, 12]\n",
            "Downloading data from https://storage.googleapis.com/tensorflow/tf-keras-datasets/reuters_word_index.json\n",
            "557056/550378 [==============================] - 0s 0us/step\n",
            "565248/550378 [==============================] - 0s 0us/step\n"
          ]
        },
        {
          "output_type": "execute_result",
          "data": {
            "application/vnd.google.colaboratory.intrinsic+json": {
              "type": "string"
            },
            "text/plain": [
              "'said as a result of its december acquisition of space co it expects earnings per share in 1987 of 1 15 to 1 30 dlrs per share up from 70 cts in 1986 the company said pretax net should rise to nine to 10 mln dlrs from six mln dlrs in 1986 and rental operation revenues to 19 to 22 mln dlrs from 12 5 mln dlrs it said cash flow per share this year should be 2 50 to three dlrs reuter 3'"
            ]
          },
          "metadata": {},
          "execution_count": 4
        }
      ]
    },
    {
      "cell_type": "markdown",
      "metadata": {
        "id": "mbu6gwauvncP"
      },
      "source": [
        "The label associated with an example is an integer between 0 and 45: a topic index. In total, there are `46` topics.\n",
        "\n",
        "\n",
        "The code below shows the label for one sample and also the distribution of labels. This dataset is very imbalanced. Some labels only have a few training samples."
      ]
    },
    {
      "cell_type": "code",
      "metadata": {
        "colab": {
          "base_uri": "https://localhost:8080/"
        },
        "id": "-8K5mUTIvncQ",
        "outputId": "ace9015f-0665-4f2e-c0bc-88dcbeecc5a2"
      },
      "source": [
        "train_labels[10]\n",
        "\n",
        "# distribution of labels\n",
        "\n",
        "pd.Series(train_labels).value_counts().sort_values(ascending = False)"
      ],
      "execution_count": null,
      "outputs": [
        {
          "output_type": "execute_result",
          "data": {
            "text/plain": [
              "3"
            ]
          },
          "metadata": {},
          "execution_count": 5
        },
        {
          "output_type": "execute_result",
          "data": {
            "text/plain": [
              "3     3159\n",
              "4     1949\n",
              "19     549\n",
              "16     444\n",
              "1      432\n",
              "11     390\n",
              "20     269\n",
              "13     172\n",
              "8      139\n",
              "10     124\n",
              "9      101\n",
              "21     100\n",
              "25      92\n",
              "2       74\n",
              "18      66\n",
              "24      62\n",
              "0       55\n",
              "34      50\n",
              "36      49\n",
              "12      49\n",
              "6       48\n",
              "28      48\n",
              "30      45\n",
              "23      41\n",
              "31      39\n",
              "17      39\n",
              "40      36\n",
              "32      32\n",
              "41      30\n",
              "14      26\n",
              "39      24\n",
              "26      24\n",
              "43      21\n",
              "15      20\n",
              "29      19\n",
              "37      19\n",
              "38      19\n",
              "45      18\n",
              "5       17\n",
              "7       16\n",
              "27      15\n",
              "22      15\n",
              "42      13\n",
              "44      12\n",
              "33      11\n",
              "35      10\n",
              "dtype: int64"
            ]
          },
          "metadata": {},
          "execution_count": 5
        }
      ]
    },
    {
      "cell_type": "markdown",
      "metadata": {
        "id": "YEw_YiP6vncQ"
      },
      "source": [
        "### Prepare data\n",
        "First, we'll follow the \"bad-of-words\" approach to generating sample representations. You can vectorize the data with the following code. Specifically,\n",
        "- The training/test datasets is represented as a matrix\n",
        "- Each sample is treated as a row, and each word is a column. \n",
        "- If a word (say $j$) appears in a sample (say $i$), 1 is recorded in the cell ($i, j$), and 0 otherwise."
      ]
    },
    {
      "cell_type": "code",
      "metadata": {
        "colab": {
          "base_uri": "https://localhost:8080/"
        },
        "id": "d6XJW3XPvncQ",
        "outputId": "016528c8-4f75-4ca5-9d30-ef9d3a6686a8"
      },
      "source": [
        "import numpy as np\n",
        "\n",
        "def vectorize_sequences(sequences, dimension=10000):\n",
        "    results = np.zeros((len(sequences), dimension))\n",
        "    for i, sequence in enumerate(sequences):\n",
        "        results[i, sequence] = 1.\n",
        "    return results\n",
        "\n",
        "# Our vectorized training data\n",
        "x_train = vectorize_sequences(train_data)\n",
        "# Our vectorized test data\n",
        "x_test = vectorize_sequences(test_data)\n",
        "\n",
        "# Get Y ready\n",
        "y_train = np.array(train_labels)\n",
        "y_test = np.array(test_labels)\n",
        "\n",
        "x_train.shape\n",
        "x_test.shape\n",
        "\n",
        "y_train.shape\n",
        "y_test.shape"
      ],
      "execution_count": null,
      "outputs": [
        {
          "output_type": "execute_result",
          "data": {
            "text/plain": [
              "(8982, 10000)"
            ]
          },
          "metadata": {},
          "execution_count": 6
        },
        {
          "output_type": "execute_result",
          "data": {
            "text/plain": [
              "(2246, 10000)"
            ]
          },
          "metadata": {},
          "execution_count": 6
        },
        {
          "output_type": "execute_result",
          "data": {
            "text/plain": [
              "(8982,)"
            ]
          },
          "metadata": {},
          "execution_count": 6
        },
        {
          "output_type": "execute_result",
          "data": {
            "text/plain": [
              "(2246,)"
            ]
          },
          "metadata": {},
          "execution_count": 6
        }
      ]
    },
    {
      "cell_type": "markdown",
      "metadata": {
        "id": "NQtrltXCvncR"
      },
      "source": [
        "### Create seqential models in different architectures\n",
        "\n"
      ]
    },
    {
      "cell_type": "code",
      "metadata": {
        "colab": {
          "base_uri": "https://localhost:8080/"
        },
        "id": "KqA3X-swvncR",
        "outputId": "4e82a5da-1dab-4b8e-815a-407385aa43fe"
      },
      "source": [
        "# fix random number\n",
        "\n",
        "random_seed = 124\n",
        "#seed(random_seed)\n",
        "\n",
        "torch.manual_seed(random_seed)\n",
        "torch.backends.cudnn.deterministic = True"
      ],
      "execution_count": null,
      "outputs": [
        {
          "output_type": "execute_result",
          "data": {
            "text/plain": [
              "<torch._C.Generator at 0x7f1f1cfdb0b0>"
            ]
          },
          "metadata": {},
          "execution_count": 7
        }
      ]
    },
    {
      "cell_type": "code",
      "metadata": {
        "id": "HRVA6U6XvncS"
      },
      "source": [
        "# Create dataset class\n",
        "\n",
        "class news_dataset(Dataset):\n",
        "    \n",
        "    # add your code\n",
        "\n",
        "    def __init__(self, x, y):\n",
        "        self.x = torch.from_numpy(x).float()\n",
        "        self.y = y #torch.from_numpy(y).float()\n",
        "        \n",
        "    def __getitem__(self, index):\n",
        "        return self.x[index], self.y[index]\n",
        "        \n",
        "    def __len__ (self):\n",
        "        return len(self.x)\n",
        "\n",
        "\n",
        "train_dataset = news_dataset(x_train, y_train)\n",
        "test_dataset = news_dataset(x_test, y_test)"
      ],
      "execution_count": null,
      "outputs": []
    },
    {
      "cell_type": "code",
      "metadata": {
        "id": "PW9vNbn9vncS"
      },
      "source": [
        "# Define your models: A, B, C\n",
        "        \n",
        "\n",
        "class linear_model(nn.Module):\n",
        "    def __init__(self, h1, h2=None):  # add more parameters if needsed\n",
        "        \n",
        "       # add your code\n",
        "        super(linear_model, self).__init__()\n",
        "        if h2:\n",
        "           self.classifier = nn.Sequential(\n",
        "                nn.Linear(in_features=10000, out_features=h1),\n",
        "                nn.ReLU(),\n",
        "                nn.Linear(in_features=h1, out_features=h2),\n",
        "                nn.ReLU(),\n",
        "                nn.Linear(in_features=h2, out_features=46)\n",
        "           )\n",
        "        else:\n",
        "            self.classifier = nn.Sequential(\n",
        "                nn.Linear(in_features=10000, out_features=h1),\n",
        "                nn.ReLU(),\n",
        "                nn.Linear(in_features=h1, out_features=46)\n",
        "            )\n",
        "    \n",
        "    def forward(self, x):\n",
        "        output = self.classifier(x)\n",
        "        return output\n",
        "        "
      ],
      "execution_count": null,
      "outputs": []
    },
    {
      "cell_type": "code",
      "metadata": {
        "id": "-gYLE2ttvncS"
      },
      "source": [
        "# Define a train function\n",
        "\n",
        "\n",
        "\n",
        "def train_model(model, train_dataset, test_dataset, device, lr=0.0002, epochs=30, batch_size=256, l2= 0):  # add more parameters if needed\n",
        "    \n",
        "    history = {'train_loss': [], #train_\n",
        "               'train_acc': [],\n",
        "               'test_loss': [],\n",
        "               'test_acc': []}\n",
        "    \n",
        "    # add your code\n",
        "\n",
        "    train_loader = DataLoader(train_dataset, batch_size=batch_size)\n",
        "    test_loader = DataLoader(test_dataset, batch_size=batch_size)\n",
        "\n",
        "  \n",
        "    model = model.to(device)   \n",
        "\n",
        "\n",
        "    criterion = nn.CrossEntropyLoss()\n",
        "    optimizer = torch.optim.RMSprop(model.parameters(), lr=lr, weight_decay= l2) \n",
        "\n",
        "  \n",
        "    print('Training Start')\n",
        "    for epoch in range(epochs):\n",
        "        model.train()\n",
        "        train_loss = 0\n",
        "        train_acc = 0\n",
        "        test_loss = 0\n",
        "        test_acc = 0\n",
        "        for x, y in train_loader:\n",
        "            \n",
        "            x = x.to(device)\n",
        "            y = y.to(device)\n",
        "          \n",
        "            outputs = model(x) \n",
        "            score, pred = torch.max(outputs, 1)    \n",
        "            cur_train_loss = criterion(outputs, y)\n",
        "            cur_train_acc = (pred == y).sum().item() / batch_size\n",
        "            \n",
        "            cur_train_loss.backward()\n",
        "            optimizer.step()\n",
        "            optimizer.zero_grad()\n",
        "            \n",
        "            train_loss += cur_train_loss\n",
        "            train_acc += cur_train_acc\n",
        "\n",
        "      \n",
        "        model.eval()\n",
        "        with torch.no_grad():\n",
        "            for x, y in test_loader:\n",
        "                # move\n",
        "                x = x.to(device)\n",
        "                y = y.to(device)\n",
        "              \n",
        "                outputs = model(x) \n",
        "                score, pred = torch.max(outputs,1)                  \n",
        "                cur_test_loss = criterion(outputs, y)\n",
        "                cur_test_acc = (pred == y).sum().item() / batch_size \n",
        "                \n",
        "                test_loss += cur_test_loss\n",
        "                test_acc += cur_test_acc    \n",
        "\n",
        "        train_loss = (train_loss/len(train_loader)).item()\n",
        "        train_acc = train_acc/len(train_loader)\n",
        "        val_loss = (test_loss/len(test_loader)).item()\n",
        "        val_acc = test_acc/len(test_loader)\n",
        "        history['train_loss'].append(train_loss)\n",
        "        history['train_acc'].append(train_acc)\n",
        "        history['test_loss'].append(val_loss)\n",
        "        history['test_acc'].append(val_acc)\n",
        "        print(f\"Epoch:{epoch + 1} / {epochs}, train loss:{train_loss:.5f} train_acc:{train_acc:.5f}, Test loss:{val_loss:.5f} Test acc:{val_acc:.5f}\")\n",
        "  \n",
        "    return history\n",
        "\n",
        "    "
      ],
      "execution_count": null,
      "outputs": []
    },
    {
      "cell_type": "code",
      "metadata": {
        "id": "3erbf6hSvncT"
      },
      "source": [
        "device = torch.device(\"cuda\" if torch.cuda.is_available() else \"cpu\")"
      ],
      "execution_count": null,
      "outputs": []
    },
    {
      "cell_type": "code",
      "metadata": {
        "colab": {
          "base_uri": "https://localhost:8080/"
        },
        "id": "DIMuDWsavncT",
        "outputId": "fd6d8e99-580e-42fe-edc2-9a208eaab75e"
      },
      "source": [
        "# Train Model A\n",
        "\n",
        "# dataset\n",
        "train_dataset = news_dataset(x_train, y_train)\n",
        "test_dataset = news_dataset(x_test, y_test)\n",
        "\n",
        "# load model\n",
        "modela = linear_model(h1 = 128)\n",
        "summary(modela, (24, 10000))\n",
        "hista = train_model(modela, train_dataset, test_dataset, device, epochs=50, l2 = 0)      "
      ],
      "execution_count": null,
      "outputs": [
        {
          "output_type": "execute_result",
          "data": {
            "text/plain": [
              "==========================================================================================\n",
              "Layer (type:depth-idx)                   Output Shape              Param #\n",
              "==========================================================================================\n",
              "linear_model                             --                        --\n",
              "├─Sequential: 1-1                        [24, 46]                  --\n",
              "│    └─Linear: 2-1                       [24, 128]                 1,280,128\n",
              "│    └─ReLU: 2-2                         [24, 128]                 --\n",
              "│    └─Linear: 2-3                       [24, 46]                  5,934\n",
              "==========================================================================================\n",
              "Total params: 1,286,062\n",
              "Trainable params: 1,286,062\n",
              "Non-trainable params: 0\n",
              "Total mult-adds (M): 30.87\n",
              "==========================================================================================\n",
              "Input size (MB): 0.96\n",
              "Forward/backward pass size (MB): 0.03\n",
              "Params size (MB): 5.14\n",
              "Estimated Total Size (MB): 6.14\n",
              "=========================================================================================="
            ]
          },
          "metadata": {},
          "execution_count": 12
        },
        {
          "output_type": "stream",
          "name": "stdout",
          "text": [
            "Training Start\n",
            "Epoch:1 / 50, train loss:2.53346 train_acc:0.56141, Test loss:1.93352 Test acc:0.62934\n",
            "Epoch:2 / 50, train loss:1.61726 train_acc:0.66862, Test loss:1.57476 Test acc:0.65972\n",
            "Epoch:3 / 50, train loss:1.31948 train_acc:0.71039, Test loss:1.40157 Test acc:0.68533\n",
            "Epoch:4 / 50, train loss:1.14321 train_acc:0.74208, Test loss:1.29412 Test acc:0.70095\n",
            "Epoch:5 / 50, train loss:1.01899 train_acc:0.76595, Test loss:1.21689 Test acc:0.71571\n",
            "Epoch:6 / 50, train loss:0.92072 train_acc:0.78635, Test loss:1.15709 Test acc:0.72873\n",
            "Epoch:7 / 50, train loss:0.83885 train_acc:0.80414, Test loss:1.10843 Test acc:0.73915\n",
            "Epoch:8 / 50, train loss:0.76808 train_acc:0.82107, Test loss:1.06748 Test acc:0.74957\n",
            "Epoch:9 / 50, train loss:0.70543 train_acc:0.83398, Test loss:1.03235 Test acc:0.75738\n",
            "Epoch:10 / 50, train loss:0.64915 train_acc:0.84581, Test loss:1.00195 Test acc:0.76345\n",
            "Epoch:11 / 50, train loss:0.59814 train_acc:0.85699, Test loss:0.97542 Test acc:0.76736\n",
            "Epoch:12 / 50, train loss:0.55171 train_acc:0.86567, Test loss:0.95239 Test acc:0.77214\n",
            "Epoch:13 / 50, train loss:0.50934 train_acc:0.87283, Test loss:0.93250 Test acc:0.77214\n",
            "Epoch:14 / 50, train loss:0.47064 train_acc:0.88129, Test loss:0.91540 Test acc:0.77604\n",
            "Epoch:15 / 50, train loss:0.43528 train_acc:0.88585, Test loss:0.90091 Test acc:0.78299\n",
            "Epoch:16 / 50, train loss:0.40302 train_acc:0.89138, Test loss:0.88894 Test acc:0.78385\n",
            "Epoch:17 / 50, train loss:0.37358 train_acc:0.89724, Test loss:0.87924 Test acc:0.78429\n",
            "Epoch:18 / 50, train loss:0.34674 train_acc:0.90126, Test loss:0.87156 Test acc:0.78255\n",
            "Epoch:19 / 50, train loss:0.32231 train_acc:0.90560, Test loss:0.86576 Test acc:0.78385\n",
            "Epoch:20 / 50, train loss:0.30010 train_acc:0.90929, Test loss:0.86162 Test acc:0.78472\n",
            "Epoch:21 / 50, train loss:0.27992 train_acc:0.91276, Test loss:0.85900 Test acc:0.78602\n",
            "Epoch:22 / 50, train loss:0.26161 train_acc:0.91450, Test loss:0.85772 Test acc:0.78689\n",
            "Epoch:23 / 50, train loss:0.24501 train_acc:0.91699, Test loss:0.85766 Test acc:0.78559\n",
            "Epoch:24 / 50, train loss:0.22998 train_acc:0.91873, Test loss:0.85859 Test acc:0.78429\n",
            "Epoch:25 / 50, train loss:0.21636 train_acc:0.92068, Test loss:0.86039 Test acc:0.78385\n",
            "Epoch:26 / 50, train loss:0.20403 train_acc:0.92198, Test loss:0.86307 Test acc:0.78385\n",
            "Epoch:27 / 50, train loss:0.19286 train_acc:0.92307, Test loss:0.86628 Test acc:0.78385\n",
            "Epoch:28 / 50, train loss:0.18274 train_acc:0.92448, Test loss:0.87027 Test acc:0.78602\n",
            "Epoch:29 / 50, train loss:0.17356 train_acc:0.92535, Test loss:0.87458 Test acc:0.78776\n",
            "Epoch:30 / 50, train loss:0.16522 train_acc:0.92622, Test loss:0.87958 Test acc:0.78733\n",
            "Epoch:31 / 50, train loss:0.15766 train_acc:0.92687, Test loss:0.88457 Test acc:0.78646\n",
            "Epoch:32 / 50, train loss:0.15073 train_acc:0.92708, Test loss:0.89043 Test acc:0.78559\n",
            "Epoch:33 / 50, train loss:0.14445 train_acc:0.92697, Test loss:0.89613 Test acc:0.78516\n",
            "Epoch:34 / 50, train loss:0.13869 train_acc:0.92719, Test loss:0.90257 Test acc:0.78559\n",
            "Epoch:35 / 50, train loss:0.13344 train_acc:0.92708, Test loss:0.90875 Test acc:0.78646\n",
            "Epoch:36 / 50, train loss:0.12863 train_acc:0.92752, Test loss:0.91559 Test acc:0.78516\n",
            "Epoch:37 / 50, train loss:0.12423 train_acc:0.92730, Test loss:0.92205 Test acc:0.78429\n",
            "Epoch:38 / 50, train loss:0.12019 train_acc:0.92730, Test loss:0.92933 Test acc:0.78559\n",
            "Epoch:39 / 50, train loss:0.11650 train_acc:0.92719, Test loss:0.93603 Test acc:0.78559\n",
            "Epoch:40 / 50, train loss:0.11310 train_acc:0.92763, Test loss:0.94362 Test acc:0.78472\n",
            "Epoch:41 / 50, train loss:0.10998 train_acc:0.92752, Test loss:0.95051 Test acc:0.78342\n",
            "Epoch:42 / 50, train loss:0.10711 train_acc:0.92795, Test loss:0.95828 Test acc:0.78342\n",
            "Epoch:43 / 50, train loss:0.10447 train_acc:0.92784, Test loss:0.96534 Test acc:0.78299\n",
            "Epoch:44 / 50, train loss:0.10203 train_acc:0.92773, Test loss:0.97341 Test acc:0.78299\n",
            "Epoch:45 / 50, train loss:0.09979 train_acc:0.92795, Test loss:0.98042 Test acc:0.78212\n",
            "Epoch:46 / 50, train loss:0.09771 train_acc:0.92795, Test loss:0.98868 Test acc:0.78082\n",
            "Epoch:47 / 50, train loss:0.09579 train_acc:0.92806, Test loss:0.99575 Test acc:0.78082\n",
            "Epoch:48 / 50, train loss:0.09401 train_acc:0.92817, Test loss:1.00411 Test acc:0.78082\n",
            "Epoch:49 / 50, train loss:0.09236 train_acc:0.92806, Test loss:1.01119 Test acc:0.78038\n",
            "Epoch:50 / 50, train loss:0.09083 train_acc:0.92795, Test loss:1.01960 Test acc:0.78125\n"
          ]
        }
      ]
    },
    {
      "cell_type": "code",
      "metadata": {
        "id": "reM6NR4svncT",
        "colab": {
          "base_uri": "https://localhost:8080/"
        },
        "outputId": "38b53cef-9fe0-42dd-d9eb-7ca52ec5f523"
      },
      "source": [
        "# Train Model B\n",
        "\n",
        "# dataset\n",
        "train_dataset = news_dataset(x_train, y_train)\n",
        "test_dataset = news_dataset(x_test, y_test)\n",
        "\n",
        "modelb = linear_model(h1=128, h2=64)\n",
        "summary(modelb, (24, 10000))\n",
        "histb = train_model(modelb, train_dataset, test_dataset, device, epochs = 50, l2 = 0)"
      ],
      "execution_count": null,
      "outputs": [
        {
          "output_type": "execute_result",
          "data": {
            "text/plain": [
              "==========================================================================================\n",
              "Layer (type:depth-idx)                   Output Shape              Param #\n",
              "==========================================================================================\n",
              "linear_model                             --                        --\n",
              "├─Sequential: 1-1                        [24, 46]                  --\n",
              "│    └─Linear: 2-1                       [24, 128]                 1,280,128\n",
              "│    └─ReLU: 2-2                         [24, 128]                 --\n",
              "│    └─Linear: 2-3                       [24, 64]                  8,256\n",
              "│    └─ReLU: 2-4                         [24, 64]                  --\n",
              "│    └─Linear: 2-5                       [24, 46]                  2,990\n",
              "==========================================================================================\n",
              "Total params: 1,291,374\n",
              "Trainable params: 1,291,374\n",
              "Non-trainable params: 0\n",
              "Total mult-adds (M): 30.99\n",
              "==========================================================================================\n",
              "Input size (MB): 0.96\n",
              "Forward/backward pass size (MB): 0.05\n",
              "Params size (MB): 5.17\n",
              "Estimated Total Size (MB): 6.17\n",
              "=========================================================================================="
            ]
          },
          "metadata": {},
          "execution_count": 13
        },
        {
          "output_type": "stream",
          "name": "stdout",
          "text": [
            "Training Start\n",
            "Epoch:1 / 50, train loss:2.73816 train_acc:0.41612, Test loss:1.98960 Test acc:0.57465\n",
            "Epoch:2 / 50, train loss:1.68401 train_acc:0.62500, Test loss:1.60525 Test acc:0.63368\n",
            "Epoch:3 / 50, train loss:1.40015 train_acc:0.67350, Test loss:1.45258 Test acc:0.66363\n",
            "Epoch:4 / 50, train loss:1.24272 train_acc:0.70193, Test loss:1.36027 Test acc:0.67578\n",
            "Epoch:5 / 50, train loss:1.12872 train_acc:0.72721, Test loss:1.29260 Test acc:0.68750\n",
            "Epoch:6 / 50, train loss:1.03472 train_acc:0.74859, Test loss:1.23821 Test acc:0.69531\n",
            "Epoch:7 / 50, train loss:0.95395 train_acc:0.76671, Test loss:1.19353 Test acc:0.70356\n",
            "Epoch:8 / 50, train loss:0.88247 train_acc:0.78179, Test loss:1.15498 Test acc:0.71137\n",
            "Epoch:9 / 50, train loss:0.81660 train_acc:0.79720, Test loss:1.12144 Test acc:0.72569\n",
            "Epoch:10 / 50, train loss:0.75561 train_acc:0.80935, Test loss:1.09263 Test acc:0.73741\n",
            "Epoch:11 / 50, train loss:0.69965 train_acc:0.82096, Test loss:1.06830 Test acc:0.74002\n",
            "Epoch:12 / 50, train loss:0.64811 train_acc:0.83084, Test loss:1.04812 Test acc:0.74392\n",
            "Epoch:13 / 50, train loss:0.60058 train_acc:0.83941, Test loss:1.03176 Test acc:0.74826\n",
            "Epoch:14 / 50, train loss:0.55672 train_acc:0.84842, Test loss:1.01887 Test acc:0.75000\n",
            "Epoch:15 / 50, train loss:0.51581 train_acc:0.85720, Test loss:1.00847 Test acc:0.75521\n",
            "Epoch:16 / 50, train loss:0.47752 train_acc:0.86589, Test loss:1.00085 Test acc:0.75608\n",
            "Epoch:17 / 50, train loss:0.44246 train_acc:0.87478, Test loss:0.99617 Test acc:0.76302\n",
            "Epoch:18 / 50, train loss:0.41038 train_acc:0.88314, Test loss:0.99332 Test acc:0.76259\n",
            "Epoch:19 / 50, train loss:0.38103 train_acc:0.89008, Test loss:0.99246 Test acc:0.76649\n",
            "Epoch:20 / 50, train loss:0.35430 train_acc:0.89464, Test loss:0.99310 Test acc:0.76736\n",
            "Epoch:21 / 50, train loss:0.32984 train_acc:0.90007, Test loss:0.99549 Test acc:0.76736\n",
            "Epoch:22 / 50, train loss:0.30762 train_acc:0.90354, Test loss:0.99875 Test acc:0.76780\n",
            "Epoch:23 / 50, train loss:0.28728 train_acc:0.90668, Test loss:1.00343 Test acc:0.76780\n",
            "Epoch:24 / 50, train loss:0.26885 train_acc:0.91081, Test loss:1.00867 Test acc:0.76823\n",
            "Epoch:25 / 50, train loss:0.25190 train_acc:0.91363, Test loss:1.01503 Test acc:0.76866\n",
            "Epoch:26 / 50, train loss:0.23675 train_acc:0.91612, Test loss:1.02128 Test acc:0.77214\n",
            "Epoch:27 / 50, train loss:0.22296 train_acc:0.91753, Test loss:1.02901 Test acc:0.77214\n",
            "Epoch:28 / 50, train loss:0.21062 train_acc:0.91927, Test loss:1.03655 Test acc:0.77344\n",
            "Epoch:29 / 50, train loss:0.19928 train_acc:0.92177, Test loss:1.04524 Test acc:0.77214\n",
            "Epoch:30 / 50, train loss:0.18923 train_acc:0.92220, Test loss:1.05340 Test acc:0.77083\n",
            "Epoch:31 / 50, train loss:0.17987 train_acc:0.92274, Test loss:1.06298 Test acc:0.77083\n",
            "Epoch:32 / 50, train loss:0.17162 train_acc:0.92307, Test loss:1.07193 Test acc:0.77214\n",
            "Epoch:33 / 50, train loss:0.16387 train_acc:0.92437, Test loss:1.08224 Test acc:0.77300\n",
            "Epoch:34 / 50, train loss:0.15706 train_acc:0.92448, Test loss:1.09156 Test acc:0.77257\n",
            "Epoch:35 / 50, train loss:0.15057 train_acc:0.92556, Test loss:1.10223 Test acc:0.77300\n",
            "Epoch:36 / 50, train loss:0.14499 train_acc:0.92589, Test loss:1.11196 Test acc:0.77344\n",
            "Epoch:37 / 50, train loss:0.13955 train_acc:0.92665, Test loss:1.12285 Test acc:0.77257\n",
            "Epoch:38 / 50, train loss:0.13490 train_acc:0.92719, Test loss:1.13271 Test acc:0.77083\n",
            "Epoch:39 / 50, train loss:0.13034 train_acc:0.92730, Test loss:1.14376 Test acc:0.76953\n",
            "Epoch:40 / 50, train loss:0.12647 train_acc:0.92719, Test loss:1.15350 Test acc:0.76866\n",
            "Epoch:41 / 50, train loss:0.12259 train_acc:0.92752, Test loss:1.16486 Test acc:0.76780\n",
            "Epoch:42 / 50, train loss:0.11940 train_acc:0.92741, Test loss:1.17479 Test acc:0.76780\n",
            "Epoch:43 / 50, train loss:0.11608 train_acc:0.92773, Test loss:1.18588 Test acc:0.76866\n",
            "Epoch:44 / 50, train loss:0.11341 train_acc:0.92752, Test loss:1.19594 Test acc:0.76823\n",
            "Epoch:45 / 50, train loss:0.11057 train_acc:0.92773, Test loss:1.20722 Test acc:0.76780\n",
            "Epoch:46 / 50, train loss:0.10833 train_acc:0.92773, Test loss:1.21705 Test acc:0.76736\n",
            "Epoch:47 / 50, train loss:0.10589 train_acc:0.92860, Test loss:1.22809 Test acc:0.76693\n",
            "Epoch:48 / 50, train loss:0.10402 train_acc:0.92839, Test loss:1.23785 Test acc:0.76649\n",
            "Epoch:49 / 50, train loss:0.10187 train_acc:0.92871, Test loss:1.24900 Test acc:0.76649\n",
            "Epoch:50 / 50, train loss:0.10030 train_acc:0.92839, Test loss:1.25877 Test acc:0.76606\n"
          ]
        }
      ]
    },
    {
      "cell_type": "code",
      "metadata": {
        "id": "UHIoVG9tvncT",
        "colab": {
          "base_uri": "https://localhost:8080/"
        },
        "outputId": "7ac74575-19e8-444d-a945-3bd937d6a3ec"
      },
      "source": [
        "# Train Model C\n",
        "\n",
        "# dataset\n",
        "train_dataset = news_dataset(x_train, y_train)\n",
        "test_dataset = news_dataset(x_test, y_test)\n",
        "\n",
        "modelc = linear_model(h1=128, h2=16)\n",
        "summary(modelc, (24, 10000))\n",
        "histc = train_model(modelc, train_dataset, test_dataset, device, epochs = 50, l2 = 0)"
      ],
      "execution_count": null,
      "outputs": [
        {
          "output_type": "execute_result",
          "data": {
            "text/plain": [
              "==========================================================================================\n",
              "Layer (type:depth-idx)                   Output Shape              Param #\n",
              "==========================================================================================\n",
              "linear_model                             --                        --\n",
              "├─Sequential: 1-1                        [24, 46]                  --\n",
              "│    └─Linear: 2-1                       [24, 128]                 1,280,128\n",
              "│    └─ReLU: 2-2                         [24, 128]                 --\n",
              "│    └─Linear: 2-3                       [24, 16]                  2,064\n",
              "│    └─ReLU: 2-4                         [24, 16]                  --\n",
              "│    └─Linear: 2-5                       [24, 46]                  782\n",
              "==========================================================================================\n",
              "Total params: 1,282,974\n",
              "Trainable params: 1,282,974\n",
              "Non-trainable params: 0\n",
              "Total mult-adds (M): 30.79\n",
              "==========================================================================================\n",
              "Input size (MB): 0.96\n",
              "Forward/backward pass size (MB): 0.04\n",
              "Params size (MB): 5.13\n",
              "Estimated Total Size (MB): 6.13\n",
              "=========================================================================================="
            ]
          },
          "metadata": {},
          "execution_count": 14
        },
        {
          "output_type": "stream",
          "name": "stdout",
          "text": [
            "Training Start\n",
            "Epoch:1 / 50, train loss:3.21656 train_acc:0.30490, Test loss:2.64498 Test acc:0.52300\n",
            "Epoch:2 / 50, train loss:2.24610 train_acc:0.57487, Test loss:2.03986 Test acc:0.58854\n",
            "Epoch:3 / 50, train loss:1.80433 train_acc:0.61241, Test loss:1.78762 Test acc:0.60981\n",
            "Epoch:4 / 50, train loss:1.58792 train_acc:0.64214, Test loss:1.65083 Test acc:0.62934\n",
            "Epoch:5 / 50, train loss:1.45015 train_acc:0.66493, Test loss:1.56283 Test acc:0.64062\n",
            "Epoch:6 / 50, train loss:1.34920 train_acc:0.68088, Test loss:1.49835 Test acc:0.65234\n",
            "Epoch:7 / 50, train loss:1.26847 train_acc:0.69390, Test loss:1.44934 Test acc:0.66102\n",
            "Epoch:8 / 50, train loss:1.20002 train_acc:0.70421, Test loss:1.40866 Test acc:0.66623\n",
            "Epoch:9 / 50, train loss:1.13934 train_acc:0.71582, Test loss:1.37392 Test acc:0.67318\n",
            "Epoch:10 / 50, train loss:1.08390 train_acc:0.72754, Test loss:1.34355 Test acc:0.67491\n",
            "Epoch:11 / 50, train loss:1.03258 train_acc:0.74132, Test loss:1.31658 Test acc:0.68012\n",
            "Epoch:12 / 50, train loss:0.98438 train_acc:0.75174, Test loss:1.29240 Test acc:0.68663\n",
            "Epoch:13 / 50, train loss:0.93870 train_acc:0.76194, Test loss:1.27047 Test acc:0.69488\n",
            "Epoch:14 / 50, train loss:0.89521 train_acc:0.77279, Test loss:1.24988 Test acc:0.70312\n",
            "Epoch:15 / 50, train loss:0.85023 train_acc:0.78657, Test loss:1.22680 Test acc:0.70833\n",
            "Epoch:16 / 50, train loss:0.80471 train_acc:0.79546, Test loss:1.20695 Test acc:0.71484\n",
            "Epoch:17 / 50, train loss:0.76261 train_acc:0.80707, Test loss:1.18940 Test acc:0.72049\n",
            "Epoch:18 / 50, train loss:0.72283 train_acc:0.81456, Test loss:1.17435 Test acc:0.72743\n",
            "Epoch:19 / 50, train loss:0.68516 train_acc:0.82454, Test loss:1.16100 Test acc:0.73003\n",
            "Epoch:20 / 50, train loss:0.64948 train_acc:0.83116, Test loss:1.14952 Test acc:0.73047\n",
            "Epoch:21 / 50, train loss:0.61557 train_acc:0.83789, Test loss:1.13954 Test acc:0.73568\n",
            "Epoch:22 / 50, train loss:0.58342 train_acc:0.84570, Test loss:1.13168 Test acc:0.73741\n",
            "Epoch:23 / 50, train loss:0.55285 train_acc:0.85232, Test loss:1.12481 Test acc:0.73915\n",
            "Epoch:24 / 50, train loss:0.52388 train_acc:0.85851, Test loss:1.12006 Test acc:0.73958\n",
            "Epoch:25 / 50, train loss:0.49654 train_acc:0.86328, Test loss:1.11616 Test acc:0.74002\n",
            "Epoch:26 / 50, train loss:0.47072 train_acc:0.86903, Test loss:1.11390 Test acc:0.74262\n",
            "Epoch:27 / 50, train loss:0.44638 train_acc:0.87348, Test loss:1.11277 Test acc:0.74306\n",
            "Epoch:28 / 50, train loss:0.42338 train_acc:0.87728, Test loss:1.11274 Test acc:0.74436\n",
            "Epoch:29 / 50, train loss:0.40101 train_acc:0.88249, Test loss:1.11290 Test acc:0.74523\n",
            "Epoch:30 / 50, train loss:0.37976 train_acc:0.88770, Test loss:1.11418 Test acc:0.74566\n",
            "Epoch:31 / 50, train loss:0.36008 train_acc:0.89149, Test loss:1.11707 Test acc:0.74783\n",
            "Epoch:32 / 50, train loss:0.34176 train_acc:0.89410, Test loss:1.12024 Test acc:0.74913\n",
            "Epoch:33 / 50, train loss:0.32462 train_acc:0.89757, Test loss:1.12439 Test acc:0.75304\n",
            "Epoch:34 / 50, train loss:0.30859 train_acc:0.90007, Test loss:1.12905 Test acc:0.75174\n",
            "Epoch:35 / 50, train loss:0.29363 train_acc:0.90267, Test loss:1.13451 Test acc:0.75391\n",
            "Epoch:36 / 50, train loss:0.27971 train_acc:0.90592, Test loss:1.14003 Test acc:0.75477\n",
            "Epoch:37 / 50, train loss:0.26664 train_acc:0.90788, Test loss:1.14644 Test acc:0.75477\n",
            "Epoch:38 / 50, train loss:0.25456 train_acc:0.91048, Test loss:1.15330 Test acc:0.75477\n",
            "Epoch:39 / 50, train loss:0.24324 train_acc:0.91265, Test loss:1.16110 Test acc:0.75608\n",
            "Epoch:40 / 50, train loss:0.23274 train_acc:0.91417, Test loss:1.16842 Test acc:0.75477\n",
            "Epoch:41 / 50, train loss:0.22281 train_acc:0.91580, Test loss:1.17689 Test acc:0.75477\n",
            "Epoch:42 / 50, train loss:0.21373 train_acc:0.91732, Test loss:1.18488 Test acc:0.75521\n",
            "Epoch:43 / 50, train loss:0.20515 train_acc:0.91808, Test loss:1.19406 Test acc:0.75434\n",
            "Epoch:44 / 50, train loss:0.19721 train_acc:0.91938, Test loss:1.20291 Test acc:0.75521\n",
            "Epoch:45 / 50, train loss:0.18978 train_acc:0.92079, Test loss:1.21195 Test acc:0.75477\n",
            "Epoch:46 / 50, train loss:0.18287 train_acc:0.92090, Test loss:1.22132 Test acc:0.75521\n",
            "Epoch:47 / 50, train loss:0.17645 train_acc:0.92188, Test loss:1.23102 Test acc:0.75564\n",
            "Epoch:48 / 50, train loss:0.17044 train_acc:0.92285, Test loss:1.24041 Test acc:0.75477\n",
            "Epoch:49 / 50, train loss:0.16480 train_acc:0.92339, Test loss:1.25078 Test acc:0.75434\n",
            "Epoch:50 / 50, train loss:0.15961 train_acc:0.92470, Test loss:1.25983 Test acc:0.75434\n"
          ]
        }
      ]
    },
    {
      "cell_type": "code",
      "metadata": {
        "id": "uOKcTEO9vncU",
        "colab": {
          "base_uri": "https://localhost:8080/",
          "height": 332
        },
        "outputId": "b6383b63-c02e-420f-ec82-9f9dc3f32faa"
      },
      "source": [
        "# Plot test loss curves\n",
        "epochs = range(1, len(hista['train_loss']) + 1)\n",
        "\n",
        "plt.plot(epochs, hista['test_loss'], 'r-', label='Model A')\n",
        "plt.plot(epochs, histb['test_loss'], 'b-', label='Model B')\n",
        "plt.plot(epochs, histc['test_loss'], 'g-', label='Model C')\n",
        "\n",
        "plt.title('Test loss')\n",
        "plt.xlabel('Epochs')\n",
        "plt.ylabel('Loss')\n",
        "plt.legend()\n",
        "\n",
        "plt.show()"
      ],
      "execution_count": null,
      "outputs": [
        {
          "output_type": "execute_result",
          "data": {
            "text/plain": [
              "[<matplotlib.lines.Line2D at 0x7f1f1a870590>]"
            ]
          },
          "metadata": {},
          "execution_count": 15
        },
        {
          "output_type": "execute_result",
          "data": {
            "text/plain": [
              "[<matplotlib.lines.Line2D at 0x7f1f1ac561d0>]"
            ]
          },
          "metadata": {},
          "execution_count": 15
        },
        {
          "output_type": "execute_result",
          "data": {
            "text/plain": [
              "[<matplotlib.lines.Line2D at 0x7f1f1ac56610>]"
            ]
          },
          "metadata": {},
          "execution_count": 15
        },
        {
          "output_type": "execute_result",
          "data": {
            "text/plain": [
              "Text(0.5, 1.0, 'Test loss')"
            ]
          },
          "metadata": {},
          "execution_count": 15
        },
        {
          "output_type": "execute_result",
          "data": {
            "text/plain": [
              "Text(0.5, 0, 'Epochs')"
            ]
          },
          "metadata": {},
          "execution_count": 15
        },
        {
          "output_type": "execute_result",
          "data": {
            "text/plain": [
              "Text(0, 0.5, 'Loss')"
            ]
          },
          "metadata": {},
          "execution_count": 15
        },
        {
          "output_type": "execute_result",
          "data": {
            "text/plain": [
              "<matplotlib.legend.Legend at 0x7f1f1ac51e50>"
            ]
          },
          "metadata": {},
          "execution_count": 15
        },
        {
          "output_type": "display_data",
          "data": {
            "image/png": "[encoded data removed]",
            "text/plain": [
              "<Figure size 432x288 with 1 Axes>"
            ]
          },
          "metadata": {
            "needs_background": "light"
          }
        }
      ]
    },
    {
      "cell_type": "code",
      "metadata": {
        "id": "Xft_7LtUvncU",
        "colab": {
          "base_uri": "https://localhost:8080/",
          "height": 332
        },
        "outputId": "f9cf1cbf-213a-4c44-9287-d68f941307ca"
      },
      "source": [
        "# Plot test accuracy curves\n",
        "\n",
        "epochs = range(1, len(hista['test_acc']) + 1)\n",
        "\n",
        "plt.plot(epochs, hista['test_acc'], 'r-', label='Model A');\n",
        "plt.plot(epochs, histb['test_acc'], 'b-', label='Model B');\n",
        "plt.plot(epochs, histc['test_acc'], 'g-', label='Model C');\n",
        "\n",
        "plt.title('Test Accuracy');\n",
        "plt.xlabel('Epochs');\n",
        "plt.ylabel('Accuracy');\n",
        "plt.legend();\n",
        "\n",
        "plt.show()"
      ],
      "execution_count": null,
      "outputs": [
        {
          "output_type": "execute_result",
          "data": {
            "text/plain": [
              "[<matplotlib.lines.Line2D at 0x7f1f1bd80ed0>]"
            ]
          },
          "metadata": {},
          "execution_count": 16
        },
        {
          "output_type": "execute_result",
          "data": {
            "text/plain": [
              "[<matplotlib.lines.Line2D at 0x7f1f1af935d0>]"
            ]
          },
          "metadata": {},
          "execution_count": 16
        },
        {
          "output_type": "execute_result",
          "data": {
            "text/plain": [
              "[<matplotlib.lines.Line2D at 0x7f1f1af93ad0>]"
            ]
          },
          "metadata": {},
          "execution_count": 16
        },
        {
          "output_type": "execute_result",
          "data": {
            "text/plain": [
              "Text(0.5, 1.0, 'Test Accuracy')"
            ]
          },
          "metadata": {},
          "execution_count": 16
        },
        {
          "output_type": "execute_result",
          "data": {
            "text/plain": [
              "Text(0.5, 0, 'Epochs')"
            ]
          },
          "metadata": {},
          "execution_count": 16
        },
        {
          "output_type": "execute_result",
          "data": {
            "text/plain": [
              "Text(0, 0.5, 'Accuracy')"
            ]
          },
          "metadata": {},
          "execution_count": 16
        },
        {
          "output_type": "execute_result",
          "data": {
            "text/plain": [
              "<matplotlib.legend.Legend at 0x7f1f1bd9ae90>"
            ]
          },
          "metadata": {},
          "execution_count": 16
        },
        {
          "output_type": "display_data",
          "data": {
            "image/png": "[encoded data removed]",
            "text/plain": [
              "<Figure size 432x288 with 1 Axes>"
            ]
          },
          "metadata": {
            "needs_background": "light"
          }
        }
      ]
    },
    {
      "cell_type": "markdown",
      "metadata": {
        "id": "_gGU6hGhvncU"
      },
      "source": [
        "### Fight overfitting \n",
        "- Take the `best model` you achieved from Q1 and add regularizers in order to reduce or at least delay overfitting without hurting its classification accuracy. You can consider the following strategies:\n",
        "    1. `dropout`: Add Dropout layers to input or hidden layers\n",
        "    2. `Batch Normalization`: Add Batch Normalization layers after hidden layers.\n",
        "    3. `L1/L2 Regularizer`: Add L2/L1 normal penality with appropriate coefficient.\n",
        "\n",
        "\n",
        "- Pick one or a combination of strategies and modify the model\n",
        "\n",
        "\n",
        "- Train the  model as in Q1 \n",
        "\n",
        "\n",
        "- Plot test loss and test accuracy vs. epoches from the training histories of all the models.\n",
        "\n",
        "\n",
        "- Write your analysis (as markdowns) on the following: \n",
        "   - Are you able to find a good strategy to address overfitting in this case? If so, why do you think the strategy you used can be effective?\n",
        "   - What other strategies have you tried? Are they effective?\n",
        "   - Overall, through Q1 and Q2, can you summarize what you have learned regarding modeling and training?\n",
        "   - Note, this is an open question. Feel free to share you learning experience. We'll summarize all students' analyses and share them in class.\n",
        "  \n",
        "\n",
        "A reference plot is provided. However, depending on the strategy you choose, you may get a different plot."
      ]
    },
    {
      "cell_type": "code",
      "metadata": {
        "id": "rvw68tK5vncV"
      },
      "source": [
        "# Define model with regularizer (dropout technique)\n",
        "class linear_model_with_regularizer(nn.Module):\n",
        "    \n",
        "   # add your code here\n",
        "\n",
        "    def __init__(self, h1 = 128 ,dropout_ratio=0.5):  # add more parameters if needsed\n",
        "        \n",
        "       # add your code\n",
        "        super(linear_model_with_regularizer, self).__init__()\n",
        "        self.classifier = nn.Sequential(\n",
        "            nn.Linear(in_features=10000, out_features=h1),\n",
        "            nn.ReLU(),\n",
        "            nn.Dropout(p=dropout_ratio),\n",
        "            nn.Linear(in_features=h1, out_features=46)\n",
        "        )\n",
        "\n",
        "    def forward(self, x):\n",
        "        output = self.classifier(x)\n",
        "        return output\n"
      ],
      "execution_count": null,
      "outputs": []
    },
    {
      "cell_type": "code",
      "metadata": {
        "id": "10pTtlYTvncV",
        "colab": {
          "base_uri": "https://localhost:8080/"
        },
        "outputId": "c9acd590-8752-47c9-8050-15e73ab96b6a"
      },
      "source": [
        "# Train model with regularizer (dropout technique)\n",
        "\n",
        "# dataset\n",
        "train_dataset = news_dataset(x_train, y_train)\n",
        "test_dataset = news_dataset(x_test, y_test)\n",
        "\n",
        "modeld = linear_model_with_regularizer()\n",
        "\n",
        "summary(modeld, (24, 10000))\n",
        "\n",
        "histd = train_model(modeld, train_dataset, test_dataset, device, epochs = 50, l2=0)"
      ],
      "execution_count": null,
      "outputs": [
        {
          "output_type": "execute_result",
          "data": {
            "text/plain": [
              "==========================================================================================\n",
              "Layer (type:depth-idx)                   Output Shape              Param #\n",
              "==========================================================================================\n",
              "linear_model_with_regularizer            --                        --\n",
              "├─Sequential: 1-1                        [24, 46]                  --\n",
              "│    └─Linear: 2-1                       [24, 128]                 1,280,128\n",
              "│    └─ReLU: 2-2                         [24, 128]                 --\n",
              "│    └─Dropout: 2-3                      [24, 128]                 --\n",
              "│    └─Linear: 2-4                       [24, 46]                  5,934\n",
              "==========================================================================================\n",
              "Total params: 1,286,062\n",
              "Trainable params: 1,286,062\n",
              "Non-trainable params: 0\n",
              "Total mult-adds (M): 30.87\n",
              "==========================================================================================\n",
              "Input size (MB): 0.96\n",
              "Forward/backward pass size (MB): 0.03\n",
              "Params size (MB): 5.14\n",
              "Estimated Total Size (MB): 6.14\n",
              "=========================================================================================="
            ]
          },
          "metadata": {},
          "execution_count": 18
        },
        {
          "output_type": "stream",
          "name": "stdout",
          "text": [
            "Training Start\n",
            "Epoch:1 / 50, train loss:2.70317 train_acc:0.51270, Test loss:2.07249 Test acc:0.60590\n",
            "Epoch:2 / 50, train loss:1.83514 train_acc:0.62641, Test loss:1.68949 Test acc:0.64366\n",
            "Epoch:3 / 50, train loss:1.53009 train_acc:0.66558, Test loss:1.50506 Test acc:0.66536\n",
            "Epoch:4 / 50, train loss:1.35918 train_acc:0.68967, Test loss:1.39319 Test acc:0.67882\n",
            "Epoch:5 / 50, train loss:1.24086 train_acc:0.71235, Test loss:1.31552 Test acc:0.69401\n",
            "Epoch:6 / 50, train loss:1.15659 train_acc:0.72776, Test loss:1.25614 Test acc:0.70226\n",
            "Epoch:7 / 50, train loss:1.08316 train_acc:0.74533, Test loss:1.20819 Test acc:0.71658\n",
            "Epoch:8 / 50, train loss:1.01348 train_acc:0.76020, Test loss:1.16771 Test acc:0.72569\n",
            "Epoch:9 / 50, train loss:0.95323 train_acc:0.77289, Test loss:1.13264 Test acc:0.73264\n",
            "Epoch:10 / 50, train loss:0.90873 train_acc:0.78147, Test loss:1.10280 Test acc:0.74045\n",
            "Epoch:11 / 50, train loss:0.86111 train_acc:0.78863, Test loss:1.07503 Test acc:0.74740\n",
            "Epoch:12 / 50, train loss:0.82372 train_acc:0.80067, Test loss:1.05123 Test acc:0.75174\n",
            "Epoch:13 / 50, train loss:0.78166 train_acc:0.80914, Test loss:1.02860 Test acc:0.75781\n",
            "Epoch:14 / 50, train loss:0.74212 train_acc:0.81934, Test loss:1.00891 Test acc:0.76215\n",
            "Epoch:15 / 50, train loss:0.70839 train_acc:0.82737, Test loss:0.99058 Test acc:0.76562\n",
            "Epoch:16 / 50, train loss:0.66838 train_acc:0.83409, Test loss:0.97316 Test acc:0.76649\n",
            "Epoch:17 / 50, train loss:0.64733 train_acc:0.84104, Test loss:0.95734 Test acc:0.76823\n",
            "Epoch:18 / 50, train loss:0.61238 train_acc:0.84733, Test loss:0.94276 Test acc:0.77083\n",
            "Epoch:19 / 50, train loss:0.58611 train_acc:0.85254, Test loss:0.93020 Test acc:0.77257\n",
            "Epoch:20 / 50, train loss:0.55861 train_acc:0.85742, Test loss:0.91793 Test acc:0.77214\n",
            "Epoch:21 / 50, train loss:0.53540 train_acc:0.86317, Test loss:0.90693 Test acc:0.77778\n",
            "Epoch:22 / 50, train loss:0.51096 train_acc:0.87023, Test loss:0.89774 Test acc:0.77865\n",
            "Epoch:23 / 50, train loss:0.48977 train_acc:0.87500, Test loss:0.88978 Test acc:0.78212\n",
            "Epoch:24 / 50, train loss:0.46560 train_acc:0.87619, Test loss:0.88199 Test acc:0.78212\n",
            "Epoch:25 / 50, train loss:0.44456 train_acc:0.87956, Test loss:0.87576 Test acc:0.78299\n",
            "Epoch:26 / 50, train loss:0.42612 train_acc:0.88487, Test loss:0.87004 Test acc:0.78255\n",
            "Epoch:27 / 50, train loss:0.41112 train_acc:0.89062, Test loss:0.86321 Test acc:0.78429\n",
            "Epoch:28 / 50, train loss:0.38731 train_acc:0.89540, Test loss:0.86069 Test acc:0.78559\n",
            "Epoch:29 / 50, train loss:0.38009 train_acc:0.89562, Test loss:0.85734 Test acc:0.78472\n",
            "Epoch:30 / 50, train loss:0.35923 train_acc:0.89757, Test loss:0.85473 Test acc:0.78733\n",
            "Epoch:31 / 50, train loss:0.34884 train_acc:0.90017, Test loss:0.85240 Test acc:0.78950\n",
            "Epoch:32 / 50, train loss:0.32966 train_acc:0.90386, Test loss:0.85367 Test acc:0.78733\n",
            "Epoch:33 / 50, train loss:0.32154 train_acc:0.90549, Test loss:0.85203 Test acc:0.78863\n",
            "Epoch:34 / 50, train loss:0.30860 train_acc:0.90918, Test loss:0.85024 Test acc:0.78776\n",
            "Epoch:35 / 50, train loss:0.29902 train_acc:0.90875, Test loss:0.85211 Test acc:0.78733\n",
            "Epoch:36 / 50, train loss:0.28965 train_acc:0.91092, Test loss:0.85388 Test acc:0.78733\n",
            "Epoch:37 / 50, train loss:0.26954 train_acc:0.91515, Test loss:0.85491 Test acc:0.78733\n",
            "Epoch:38 / 50, train loss:0.26395 train_acc:0.91515, Test loss:0.85543 Test acc:0.78602\n",
            "Epoch:39 / 50, train loss:0.25342 train_acc:0.91829, Test loss:0.85725 Test acc:0.78776\n",
            "Epoch:40 / 50, train loss:0.24479 train_acc:0.91851, Test loss:0.85962 Test acc:0.78689\n",
            "Epoch:41 / 50, train loss:0.24356 train_acc:0.91938, Test loss:0.86045 Test acc:0.78472\n",
            "Epoch:42 / 50, train loss:0.23197 train_acc:0.92133, Test loss:0.86317 Test acc:0.78733\n",
            "Epoch:43 / 50, train loss:0.22223 train_acc:0.92274, Test loss:0.86820 Test acc:0.78776\n",
            "Epoch:44 / 50, train loss:0.21741 train_acc:0.92372, Test loss:0.87107 Test acc:0.78819\n",
            "Epoch:45 / 50, train loss:0.20765 train_acc:0.92578, Test loss:0.87149 Test acc:0.78906\n",
            "Epoch:46 / 50, train loss:0.20144 train_acc:0.92632, Test loss:0.87673 Test acc:0.78819\n",
            "Epoch:47 / 50, train loss:0.19373 train_acc:0.92958, Test loss:0.88298 Test acc:0.78472\n",
            "Epoch:48 / 50, train loss:0.19042 train_acc:0.92904, Test loss:0.88821 Test acc:0.78776\n",
            "Epoch:49 / 50, train loss:0.18400 train_acc:0.92817, Test loss:0.88865 Test acc:0.78776\n",
            "Epoch:50 / 50, train loss:0.18256 train_acc:0.92860, Test loss:0.89365 Test acc:0.78602\n"
          ]
        }
      ]
    },
    {
      "cell_type": "code",
      "metadata": {
        "colab": {
          "base_uri": "https://localhost:8080/"
        },
        "id": "XqAuJMxidATZ",
        "outputId": "d6ee9f7b-b83c-4795-dc8c-ea9bed067959"
      },
      "source": [
        "# Train model with regularizer (L2 technique)\n",
        "\n",
        "# dataset\n",
        "train_dataset = news_dataset(x_train, y_train)\n",
        "test_dataset = news_dataset(x_test, y_test)\n",
        "\n",
        "modele = linear_model(h1 = 128)\n",
        "\n",
        "summary(modele, (24, 10000))\n",
        "\n",
        "histe = train_model(modele, train_dataset, test_dataset, device, epochs = 50, l2 = 0.001)"
      ],
      "execution_count": null,
      "outputs": [
        {
          "output_type": "execute_result",
          "data": {
            "text/plain": [
              "==========================================================================================\n",
              "Layer (type:depth-idx)                   Output Shape              Param #\n",
              "==========================================================================================\n",
              "linear_model                             --                        --\n",
              "├─Sequential: 1-1                        [24, 46]                  --\n",
              "│    └─Linear: 2-1                       [24, 128]                 1,280,128\n",
              "│    └─ReLU: 2-2                         [24, 128]                 --\n",
              "│    └─Linear: 2-3                       [24, 46]                  5,934\n",
              "==========================================================================================\n",
              "Total params: 1,286,062\n",
              "Trainable params: 1,286,062\n",
              "Non-trainable params: 0\n",
              "Total mult-adds (M): 30.87\n",
              "==========================================================================================\n",
              "Input size (MB): 0.96\n",
              "Forward/backward pass size (MB): 0.03\n",
              "Params size (MB): 5.14\n",
              "Estimated Total Size (MB): 6.14\n",
              "=========================================================================================="
            ]
          },
          "metadata": {},
          "execution_count": 19
        },
        {
          "output_type": "stream",
          "name": "stdout",
          "text": [
            "Training Start\n",
            "Epoch:1 / 50, train loss:2.52734 train_acc:0.55968, Test loss:1.92834 Test acc:0.62977\n",
            "Epoch:2 / 50, train loss:1.62560 train_acc:0.66395, Test loss:1.57682 Test acc:0.66102\n",
            "Epoch:3 / 50, train loss:1.33720 train_acc:0.70378, Test loss:1.40999 Test acc:0.68012\n",
            "Epoch:4 / 50, train loss:1.17231 train_acc:0.73644, Test loss:1.30774 Test acc:0.69314\n",
            "Epoch:5 / 50, train loss:1.05833 train_acc:0.75716, Test loss:1.23541 Test acc:0.70964\n",
            "Epoch:6 / 50, train loss:0.97078 train_acc:0.77420, Test loss:1.18000 Test acc:0.72266\n",
            "Epoch:7 / 50, train loss:0.89898 train_acc:0.79036, Test loss:1.13488 Test acc:0.73090\n",
            "Epoch:8 / 50, train loss:0.83752 train_acc:0.80306, Test loss:1.09685 Test acc:0.74002\n",
            "Epoch:9 / 50, train loss:0.78354 train_acc:0.81456, Test loss:1.06401 Test acc:0.74740\n",
            "Epoch:10 / 50, train loss:0.73536 train_acc:0.82541, Test loss:1.03518 Test acc:0.75347\n",
            "Epoch:11 / 50, train loss:0.69190 train_acc:0.83626, Test loss:1.00973 Test acc:0.75955\n",
            "Epoch:12 / 50, train loss:0.65240 train_acc:0.84473, Test loss:0.98704 Test acc:0.76215\n",
            "Epoch:13 / 50, train loss:0.61630 train_acc:0.85145, Test loss:0.96681 Test acc:0.76736\n",
            "Epoch:14 / 50, train loss:0.58319 train_acc:0.85775, Test loss:0.94876 Test acc:0.76866\n",
            "Epoch:15 / 50, train loss:0.55277 train_acc:0.86393, Test loss:0.93269 Test acc:0.77214\n",
            "Epoch:16 / 50, train loss:0.52479 train_acc:0.86947, Test loss:0.91840 Test acc:0.77431\n",
            "Epoch:17 / 50, train loss:0.49900 train_acc:0.87391, Test loss:0.90568 Test acc:0.77474\n",
            "Epoch:18 / 50, train loss:0.47523 train_acc:0.87804, Test loss:0.89445 Test acc:0.77431\n",
            "Epoch:19 / 50, train loss:0.45330 train_acc:0.88281, Test loss:0.88445 Test acc:0.77474\n",
            "Epoch:20 / 50, train loss:0.43308 train_acc:0.88780, Test loss:0.87563 Test acc:0.77517\n",
            "Epoch:21 / 50, train loss:0.41439 train_acc:0.89214, Test loss:0.86789 Test acc:0.77778\n",
            "Epoch:22 / 50, train loss:0.39712 train_acc:0.89572, Test loss:0.86111 Test acc:0.77908\n",
            "Epoch:23 / 50, train loss:0.38116 train_acc:0.89822, Test loss:0.85518 Test acc:0.78038\n",
            "Epoch:24 / 50, train loss:0.36641 train_acc:0.89974, Test loss:0.85004 Test acc:0.78168\n",
            "Epoch:25 / 50, train loss:0.35276 train_acc:0.90267, Test loss:0.84551 Test acc:0.78255\n",
            "Epoch:26 / 50, train loss:0.34013 train_acc:0.90419, Test loss:0.84170 Test acc:0.78472\n",
            "Epoch:27 / 50, train loss:0.32842 train_acc:0.90603, Test loss:0.83837 Test acc:0.78602\n",
            "Epoch:28 / 50, train loss:0.31757 train_acc:0.90755, Test loss:0.83552 Test acc:0.78559\n",
            "Epoch:29 / 50, train loss:0.30749 train_acc:0.91005, Test loss:0.83312 Test acc:0.78472\n",
            "Epoch:30 / 50, train loss:0.29813 train_acc:0.91146, Test loss:0.83111 Test acc:0.78472\n",
            "Epoch:31 / 50, train loss:0.28942 train_acc:0.91233, Test loss:0.82945 Test acc:0.78385\n",
            "Epoch:32 / 50, train loss:0.28133 train_acc:0.91363, Test loss:0.82804 Test acc:0.78342\n",
            "Epoch:33 / 50, train loss:0.27376 train_acc:0.91461, Test loss:0.82692 Test acc:0.78385\n",
            "Epoch:34 / 50, train loss:0.26672 train_acc:0.91547, Test loss:0.82600 Test acc:0.78385\n",
            "Epoch:35 / 50, train loss:0.26012 train_acc:0.91699, Test loss:0.82539 Test acc:0.78385\n",
            "Epoch:36 / 50, train loss:0.25394 train_acc:0.91808, Test loss:0.82485 Test acc:0.78342\n",
            "Epoch:37 / 50, train loss:0.24816 train_acc:0.91938, Test loss:0.82456 Test acc:0.78342\n",
            "Epoch:38 / 50, train loss:0.24273 train_acc:0.92046, Test loss:0.82433 Test acc:0.78429\n",
            "Epoch:39 / 50, train loss:0.23763 train_acc:0.92155, Test loss:0.82434 Test acc:0.78385\n",
            "Epoch:40 / 50, train loss:0.23284 train_acc:0.92263, Test loss:0.82438 Test acc:0.78299\n",
            "Epoch:41 / 50, train loss:0.22833 train_acc:0.92296, Test loss:0.82459 Test acc:0.78299\n",
            "Epoch:42 / 50, train loss:0.22407 train_acc:0.92405, Test loss:0.82491 Test acc:0.78299\n",
            "Epoch:43 / 50, train loss:0.22007 train_acc:0.92491, Test loss:0.82522 Test acc:0.78255\n",
            "Epoch:44 / 50, train loss:0.21630 train_acc:0.92491, Test loss:0.82565 Test acc:0.78255\n",
            "Epoch:45 / 50, train loss:0.21271 train_acc:0.92502, Test loss:0.82618 Test acc:0.78255\n",
            "Epoch:46 / 50, train loss:0.20934 train_acc:0.92556, Test loss:0.82669 Test acc:0.78255\n",
            "Epoch:47 / 50, train loss:0.20615 train_acc:0.92578, Test loss:0.82733 Test acc:0.78342\n",
            "Epoch:48 / 50, train loss:0.20313 train_acc:0.92600, Test loss:0.82801 Test acc:0.78429\n",
            "Epoch:49 / 50, train loss:0.20028 train_acc:0.92708, Test loss:0.82856 Test acc:0.78429\n",
            "Epoch:50 / 50, train loss:0.19756 train_acc:0.92687, Test loss:0.82953 Test acc:0.78385\n"
          ]
        }
      ]
    },
    {
      "cell_type": "code",
      "metadata": {
        "colab": {
          "base_uri": "https://localhost:8080/"
        },
        "id": "I5FHsM8OgAuR",
        "outputId": "fa956390-02c5-4718-bb4e-01011af4cb6c"
      },
      "source": [
        "# Train model with regularizer (L2 + drop out)\n",
        "\n",
        "# dataset\n",
        "train_dataset = news_dataset(x_train, y_train)\n",
        "test_dataset = news_dataset(x_test, y_test)\n",
        "\n",
        "modelf = linear_model_with_regularizer()\n",
        "\n",
        "summary(modelf, (24, 10000))\n",
        "\n",
        "histf = train_model(modelf, train_dataset, test_dataset, device, epochs = 50, l2 = 0.001)"
      ],
      "execution_count": null,
      "outputs": [
        {
          "output_type": "execute_result",
          "data": {
            "text/plain": [
              "==========================================================================================\n",
              "Layer (type:depth-idx)                   Output Shape              Param #\n",
              "==========================================================================================\n",
              "linear_model_with_regularizer            --                        --\n",
              "├─Sequential: 1-1                        [24, 46]                  --\n",
              "│    └─Linear: 2-1                       [24, 128]                 1,280,128\n",
              "│    └─ReLU: 2-2                         [24, 128]                 --\n",
              "│    └─Dropout: 2-3                      [24, 128]                 --\n",
              "│    └─Linear: 2-4                       [24, 46]                  5,934\n",
              "==========================================================================================\n",
              "Total params: 1,286,062\n",
              "Trainable params: 1,286,062\n",
              "Non-trainable params: 0\n",
              "Total mult-adds (M): 30.87\n",
              "==========================================================================================\n",
              "Input size (MB): 0.96\n",
              "Forward/backward pass size (MB): 0.03\n",
              "Params size (MB): 5.14\n",
              "Estimated Total Size (MB): 6.14\n",
              "=========================================================================================="
            ]
          },
          "metadata": {},
          "execution_count": 20
        },
        {
          "output_type": "stream",
          "name": "stdout",
          "text": [
            "Training Start\n",
            "Epoch:1 / 50, train loss:2.64288 train_acc:0.52832, Test loss:2.02845 Test acc:0.59679\n",
            "Epoch:2 / 50, train loss:1.80513 train_acc:0.62424, Test loss:1.67009 Test acc:0.64106\n",
            "Epoch:3 / 50, train loss:1.52810 train_acc:0.66428, Test loss:1.50154 Test acc:0.66276\n",
            "Epoch:4 / 50, train loss:1.37158 train_acc:0.68522, Test loss:1.40138 Test acc:0.67708\n",
            "Epoch:5 / 50, train loss:1.25997 train_acc:0.70812, Test loss:1.32930 Test acc:0.69097\n",
            "Epoch:6 / 50, train loss:1.18990 train_acc:0.72168, Test loss:1.27490 Test acc:0.69922\n",
            "Epoch:7 / 50, train loss:1.11390 train_acc:0.73492, Test loss:1.23184 Test acc:0.70790\n",
            "Epoch:8 / 50, train loss:1.05729 train_acc:0.74740, Test loss:1.19603 Test acc:0.71832\n",
            "Epoch:9 / 50, train loss:1.01110 train_acc:0.75911, Test loss:1.16493 Test acc:0.72352\n",
            "Epoch:10 / 50, train loss:0.96753 train_acc:0.76747, Test loss:1.13679 Test acc:0.72873\n",
            "Epoch:11 / 50, train loss:0.92042 train_acc:0.77604, Test loss:1.11176 Test acc:0.73872\n",
            "Epoch:12 / 50, train loss:0.88964 train_acc:0.78461, Test loss:1.08879 Test acc:0.74002\n",
            "Epoch:13 / 50, train loss:0.85212 train_acc:0.79069, Test loss:1.06817 Test acc:0.74740\n",
            "Epoch:14 / 50, train loss:0.82487 train_acc:0.79590, Test loss:1.04979 Test acc:0.75043\n",
            "Epoch:15 / 50, train loss:0.79943 train_acc:0.80382, Test loss:1.03239 Test acc:0.75347\n",
            "Epoch:16 / 50, train loss:0.76492 train_acc:0.81120, Test loss:1.01617 Test acc:0.75608\n",
            "Epoch:17 / 50, train loss:0.74582 train_acc:0.81565, Test loss:1.00099 Test acc:0.75781\n",
            "Epoch:18 / 50, train loss:0.71761 train_acc:0.82183, Test loss:0.98699 Test acc:0.76042\n",
            "Epoch:19 / 50, train loss:0.69476 train_acc:0.82498, Test loss:0.97341 Test acc:0.76302\n",
            "Epoch:20 / 50, train loss:0.66882 train_acc:0.82747, Test loss:0.96173 Test acc:0.76780\n",
            "Epoch:21 / 50, train loss:0.64901 train_acc:0.83659, Test loss:0.95080 Test acc:0.76866\n",
            "Epoch:22 / 50, train loss:0.62694 train_acc:0.84418, Test loss:0.94048 Test acc:0.76997\n",
            "Epoch:23 / 50, train loss:0.61034 train_acc:0.84429, Test loss:0.93024 Test acc:0.77257\n",
            "Epoch:24 / 50, train loss:0.59022 train_acc:0.84885, Test loss:0.92113 Test acc:0.77387\n",
            "Epoch:25 / 50, train loss:0.58049 train_acc:0.85211, Test loss:0.91396 Test acc:0.77300\n",
            "Epoch:26 / 50, train loss:0.56265 train_acc:0.85601, Test loss:0.90644 Test acc:0.77474\n",
            "Epoch:27 / 50, train loss:0.54647 train_acc:0.85959, Test loss:0.89876 Test acc:0.77604\n",
            "Epoch:28 / 50, train loss:0.53377 train_acc:0.86274, Test loss:0.89315 Test acc:0.77648\n",
            "Epoch:29 / 50, train loss:0.51269 train_acc:0.86773, Test loss:0.88630 Test acc:0.77691\n",
            "Epoch:30 / 50, train loss:0.50197 train_acc:0.86795, Test loss:0.88008 Test acc:0.77865\n",
            "Epoch:31 / 50, train loss:0.49239 train_acc:0.87055, Test loss:0.87414 Test acc:0.77908\n",
            "Epoch:32 / 50, train loss:0.47580 train_acc:0.87554, Test loss:0.86968 Test acc:0.78255\n",
            "Epoch:33 / 50, train loss:0.46693 train_acc:0.87587, Test loss:0.86475 Test acc:0.78038\n",
            "Epoch:34 / 50, train loss:0.45278 train_acc:0.88075, Test loss:0.86147 Test acc:0.78212\n",
            "Epoch:35 / 50, train loss:0.44728 train_acc:0.88043, Test loss:0.85711 Test acc:0.78299\n",
            "Epoch:36 / 50, train loss:0.44002 train_acc:0.88227, Test loss:0.85498 Test acc:0.78168\n",
            "Epoch:37 / 50, train loss:0.42664 train_acc:0.88194, Test loss:0.85142 Test acc:0.77995\n",
            "Epoch:38 / 50, train loss:0.41713 train_acc:0.88759, Test loss:0.84604 Test acc:0.78082\n",
            "Epoch:39 / 50, train loss:0.40868 train_acc:0.88748, Test loss:0.84326 Test acc:0.78255\n",
            "Epoch:40 / 50, train loss:0.39290 train_acc:0.89301, Test loss:0.84167 Test acc:0.78385\n",
            "Epoch:41 / 50, train loss:0.38777 train_acc:0.89225, Test loss:0.84020 Test acc:0.78385\n",
            "Epoch:42 / 50, train loss:0.37853 train_acc:0.89355, Test loss:0.83837 Test acc:0.78429\n",
            "Epoch:43 / 50, train loss:0.37795 train_acc:0.89497, Test loss:0.83511 Test acc:0.78646\n",
            "Epoch:44 / 50, train loss:0.37164 train_acc:0.89855, Test loss:0.83465 Test acc:0.78429\n",
            "Epoch:45 / 50, train loss:0.36320 train_acc:0.89724, Test loss:0.83294 Test acc:0.78776\n",
            "Epoch:46 / 50, train loss:0.35657 train_acc:0.89996, Test loss:0.83003 Test acc:0.78906\n",
            "Epoch:47 / 50, train loss:0.34583 train_acc:0.90148, Test loss:0.83121 Test acc:0.78646\n",
            "Epoch:48 / 50, train loss:0.34342 train_acc:0.90256, Test loss:0.82960 Test acc:0.78689\n",
            "Epoch:49 / 50, train loss:0.33856 train_acc:0.90538, Test loss:0.83045 Test acc:0.78602\n",
            "Epoch:50 / 50, train loss:0.33430 train_acc:0.90104, Test loss:0.82686 Test acc:0.78733\n"
          ]
        }
      ]
    },
    {
      "cell_type": "code",
      "metadata": {
        "id": "I9M0SE51vncV",
        "colab": {
          "base_uri": "https://localhost:8080/",
          "height": 332
        },
        "outputId": "c2f0517f-7234-4279-ac2a-75f7c322f32f"
      },
      "source": [
        "# Plot validation loss curves\n",
        "epochs = range(1, len(hista['train_loss']) + 1)\n",
        "\n",
        "plt.plot(epochs, hista['test_loss'], 'r-', label='Model A')\n",
        "plt.plot(epochs, histb['test_loss'], 'b-', label='Model B')\n",
        "plt.plot(epochs, histc['test_loss'], 'g-', label='Model C')\n",
        "plt.plot(epochs, histf['test_loss'], '-', color='purple', label='Model A with regularizer (L2 & DO)')\n",
        "\n",
        "plt.title('Test loss')\n",
        "plt.xlabel('Epochs')\n",
        "plt.ylabel('Loss')\n",
        "plt.legend()\n",
        "\n",
        "plt.show()"
      ],
      "execution_count": null,
      "outputs": [
        {
          "output_type": "execute_result",
          "data": {
            "text/plain": [
              "[<matplotlib.lines.Line2D at 0x7f1f1b01df50>]"
            ]
          },
          "metadata": {},
          "execution_count": 21
        },
        {
          "output_type": "execute_result",
          "data": {
            "text/plain": [
              "[<matplotlib.lines.Line2D at 0x7f1f1b030510>]"
            ]
          },
          "metadata": {},
          "execution_count": 21
        },
        {
          "output_type": "execute_result",
          "data": {
            "text/plain": [
              "[<matplotlib.lines.Line2D at 0x7f1f1b030a10>]"
            ]
          },
          "metadata": {},
          "execution_count": 21
        },
        {
          "output_type": "execute_result",
          "data": {
            "text/plain": [
              "[<matplotlib.lines.Line2D at 0x7f1f1b0309d0>]"
            ]
          },
          "metadata": {},
          "execution_count": 21
        },
        {
          "output_type": "execute_result",
          "data": {
            "text/plain": [
              "Text(0.5, 1.0, 'Test loss')"
            ]
          },
          "metadata": {},
          "execution_count": 21
        },
        {
          "output_type": "execute_result",
          "data": {
            "text/plain": [
              "Text(0.5, 0, 'Epochs')"
            ]
          },
          "metadata": {},
          "execution_count": 21
        },
        {
          "output_type": "execute_result",
          "data": {
            "text/plain": [
              "Text(0, 0.5, 'Loss')"
            ]
          },
          "metadata": {},
          "execution_count": 21
        },
        {
          "output_type": "execute_result",
          "data": {
            "text/plain": [
              "<matplotlib.legend.Legend at 0x7f1f1b02df50>"
            ]
          },
          "metadata": {},
          "execution_count": 21
        },
        {
          "output_type": "display_data",
          "data": {
            "image/png": "[encoded data removed]",
            "text/plain": [
              "<Figure size 432x288 with 1 Axes>"
            ]
          },
          "metadata": {
            "needs_background": "light"
          }
        }
      ]
    },
    {
      "cell_type": "code",
      "metadata": {
        "id": "wrqxFW-SvncV",
        "colab": {
          "base_uri": "https://localhost:8080/",
          "height": 332
        },
        "outputId": "73edd6e1-d05c-4063-c277-02c3b2246511"
      },
      "source": [
        "# Plot validation accuracy curves\n",
        "epochs = range(1, len(hista['test_acc']) + 1)\n",
        "\n",
        "plt.plot(epochs, hista['test_acc'], 'r-', label='Model A');\n",
        "plt.plot(epochs, histb['test_acc'], 'b-', label='Model B');\n",
        "plt.plot(epochs, histc['test_acc'], 'g-', label='Model C');\n",
        "plt.plot(epochs, histf['test_acc'], '-', color='purple', label='Model A with regularizer (L2 & DO)');\n",
        "\n",
        "plt.title('Test Accuracy');\n",
        "plt.xlabel('Epochs');\n",
        "plt.ylabel('Accuracy');\n",
        "plt.legend();\n",
        "\n",
        "plt.show()"
      ],
      "execution_count": null,
      "outputs": [
        {
          "output_type": "execute_result",
          "data": {
            "text/plain": [
              "[<matplotlib.lines.Line2D at 0x7f1f1b308a90>]"
            ]
          },
          "metadata": {},
          "execution_count": 22
        },
        {
          "output_type": "execute_result",
          "data": {
            "text/plain": [
              "[<matplotlib.lines.Line2D at 0x7f1f1b2ff0d0>]"
            ]
          },
          "metadata": {},
          "execution_count": 22
        },
        {
          "output_type": "execute_result",
          "data": {
            "text/plain": [
              "[<matplotlib.lines.Line2D at 0x7f1f1b2ff5d0>]"
            ]
          },
          "metadata": {},
          "execution_count": 22
        },
        {
          "output_type": "execute_result",
          "data": {
            "text/plain": [
              "[<matplotlib.lines.Line2D at 0x7f1f1b2ffc90>]"
            ]
          },
          "metadata": {},
          "execution_count": 22
        },
        {
          "output_type": "execute_result",
          "data": {
            "text/plain": [
              "Text(0.5, 1.0, 'Test Accuracy')"
            ]
          },
          "metadata": {},
          "execution_count": 22
        },
        {
          "output_type": "execute_result",
          "data": {
            "text/plain": [
              "Text(0.5, 0, 'Epochs')"
            ]
          },
          "metadata": {},
          "execution_count": 22
        },
        {
          "output_type": "execute_result",
          "data": {
            "text/plain": [
              "Text(0, 0.5, 'Accuracy')"
            ]
          },
          "metadata": {},
          "execution_count": 22
        },
        {
          "output_type": "execute_result",
          "data": {
            "text/plain": [
              "<matplotlib.legend.Legend at 0x7f1f1b2818d0>"
            ]
          },
          "metadata": {},
          "execution_count": 22
        },
        {
          "output_type": "display_data",
          "data": {
            "image/png": "[encoded data removed]",
            "text/plain": [
              "<Figure size 432x288 with 1 Axes>"
            ]
          },
          "metadata": {
            "needs_background": "light"
          }
        }
      ]
    },
    {
      "cell_type": "code",
      "metadata": {
        "colab": {
          "base_uri": "https://localhost:8080/",
          "height": 332
        },
        "id": "Ix8vMMH2fEKs",
        "outputId": "0293d1a5-e6e7-40b6-8361-46f066cfc2fe"
      },
      "source": [
        "# Plot validation loss curves\n",
        "epochs = range(1, len(hista['train_loss']) + 1)\n",
        "\n",
        "\n",
        "plt.plot(epochs, histd['test_loss'], '-', color='purple', label='Dropout technique')\n",
        "plt.plot(epochs,histe['test_loss'], '-', color='red', label='L2 technique')\n",
        "plt.plot(epochs,histf['test_loss'], '-', color='green', label='L2 + dropout technique')\n",
        "\n",
        "plt.title('Test loss')\n",
        "plt.xlabel('Epochs')\n",
        "plt.ylabel('Loss')\n",
        "plt.legend()\n",
        "\n",
        "plt.show()"
      ],
      "execution_count": null,
      "outputs": [
        {
          "output_type": "execute_result",
          "data": {
            "text/plain": [
              "[<matplotlib.lines.Line2D at 0x7f1f1a9be510>]"
            ]
          },
          "metadata": {},
          "execution_count": 23
        },
        {
          "output_type": "execute_result",
          "data": {
            "text/plain": [
              "[<matplotlib.lines.Line2D at 0x7f1f1a9bead0>]"
            ]
          },
          "metadata": {},
          "execution_count": 23
        },
        {
          "output_type": "execute_result",
          "data": {
            "text/plain": [
              "[<matplotlib.lines.Line2D at 0x7f1f1a9c5090>]"
            ]
          },
          "metadata": {},
          "execution_count": 23
        },
        {
          "output_type": "execute_result",
          "data": {
            "text/plain": [
              "Text(0.5, 1.0, 'Test loss')"
            ]
          },
          "metadata": {},
          "execution_count": 23
        },
        {
          "output_type": "execute_result",
          "data": {
            "text/plain": [
              "Text(0.5, 0, 'Epochs')"
            ]
          },
          "metadata": {},
          "execution_count": 23
        },
        {
          "output_type": "execute_result",
          "data": {
            "text/plain": [
              "Text(0, 0.5, 'Loss')"
            ]
          },
          "metadata": {},
          "execution_count": 23
        },
        {
          "output_type": "execute_result",
          "data": {
            "text/plain": [
              "<matplotlib.legend.Legend at 0x7f1f1a9b84d0>"
            ]
          },
          "metadata": {},
          "execution_count": 23
        },
        {
          "output_type": "display_data",
          "data": {
            "image/png": "[encoded data removed]",
            "text/plain": [
              "<Figure size 432x288 with 1 Axes>"
            ]
          },
          "metadata": {
            "needs_background": "light"
          }
        }
      ]
    },
    {
      "cell_type": "code",
      "metadata": {
        "colab": {
          "base_uri": "https://localhost:8080/",
          "height": 332
        },
        "id": "nbEAkCjehkBo",
        "outputId": "e8e8d8f1-159f-4575-f366-8b92bb63af11"
      },
      "source": [
        "# Plot validation accuracy curves\n",
        "epochs = range(1, len(hista['test_acc']) + 1)\n",
        "\n",
        "\n",
        "plt.plot(epochs, histd['test_acc'], '-', color='purple', label='Dropout technique');\n",
        "plt.plot(epochs,histe['test_acc'], '-', color='red', label='l2 technique')\n",
        "plt.plot(epochs,histf['test_acc'], '-', color='green', label='l2 + dropout technique')\n",
        "\n",
        "plt.title('Test Accuracy');\n",
        "plt.xlabel('Epochs');\n",
        "plt.ylabel('Accuracy');\n",
        "plt.legend();\n",
        "\n",
        "plt.show()"
      ],
      "execution_count": null,
      "outputs": [
        {
          "output_type": "execute_result",
          "data": {
            "text/plain": [
              "[<matplotlib.lines.Line2D at 0x7f1f1aa1eb50>]"
            ]
          },
          "metadata": {},
          "execution_count": 24
        },
        {
          "output_type": "execute_result",
          "data": {
            "text/plain": [
              "[<matplotlib.lines.Line2D at 0x7f1f1a9f6190>]"
            ]
          },
          "metadata": {},
          "execution_count": 24
        },
        {
          "output_type": "execute_result",
          "data": {
            "text/plain": [
              "[<matplotlib.lines.Line2D at 0x7f1f1a9f65d0>]"
            ]
          },
          "metadata": {},
          "execution_count": 24
        },
        {
          "output_type": "execute_result",
          "data": {
            "text/plain": [
              "Text(0.5, 1.0, 'Test Accuracy')"
            ]
          },
          "metadata": {},
          "execution_count": 24
        },
        {
          "output_type": "execute_result",
          "data": {
            "text/plain": [
              "Text(0.5, 0, 'Epochs')"
            ]
          },
          "metadata": {},
          "execution_count": 24
        },
        {
          "output_type": "execute_result",
          "data": {
            "text/plain": [
              "Text(0, 0.5, 'Accuracy')"
            ]
          },
          "metadata": {},
          "execution_count": 24
        },
        {
          "output_type": "execute_result",
          "data": {
            "text/plain": [
              "<matplotlib.legend.Legend at 0x7f1f1aa17550>"
            ]
          },
          "metadata": {},
          "execution_count": 24
        },
        {
          "output_type": "display_data",
          "data": {
            "image/png": "[encoded data removed]",
            "text/plain": [
              "<Figure size 432x288 with 1 Axes>"
            ]
          },
          "metadata": {
            "needs_background": "light"
          }
        }
      ]
    },
    {
      "cell_type": "markdown",
      "metadata": {
        "id": "EygYQ9Hf-tlM"
      },
      "source": [
        "**Analysis on the following:**\n",
        "\n",
        "\n",
        "**Are you able to find a good strategy to address overfitting in this case? If so, why do you think the strategy you used can be effective?**\n",
        "\n",
        "The best strategy to address overfitting in this specific case would be to either to use a L1, L2 regulizer or a combination of the L1, L2 regulizers along with the drop out technique. As you can see in the graphs that I've plotted above for different techniques, you can see that using a stand alone L2 regulizer or a combination of both the L2 and the drop technique works the best for fixing overfitting. Either one of these techniques can be used in order to fix overfitting. \n",
        "\n",
        "**Reasons:**\n",
        "\n",
        "**Dropout Technique**\n",
        "\n",
        "The reasons to why this strategy is effective is because, while using the dropout technique few of the nodes/units are dropped out while training, this forces the neighbouring nodes in a given hidden layer to perform better. Adittionaly, these dropped out nodes/units are back when testing the model by scaling down the output values by a factor equal to the dropout rate. \n",
        "\n",
        "**L1/L2 regularization** \n",
        "\n",
        "This works on the principal that a simpler a model is, the better it performs on the test set. That is, increasing the model complexity can lead to overfitting. One of the ways to make the model less complex is to put constrains on the complexity by forcing the weights to take smaller values. Thus is done by L1/L2 regulizers where the the loss function of the network is given a penality or a cost for having large weights. We've specifically targeted on L2 regularization for this example where the cost added is proportional to the square of the value of the weights coefficients. \n",
        "\n",
        "Either using L2 alone or combining the above two techniques give you the best chances to reduce overfitting in this specific scenario by reducing it without altering the accuracy. \n",
        "\n"
      ]
    },
    {
      "cell_type": "markdown",
      "metadata": {
        "id": "yQJJw3U0GKwN"
      },
      "source": [
        "**What other strategies have you tried? Are they effective?**\n",
        "\n",
        "The other strategies that I tried were using dropout techinque by itself and the batch normalization. \n",
        "\n",
        "Out of the two, the dropout technique seemed to be more effective compared to batch normalization. But, comparing the dropout technqiue with the L2 Regulizer or combining both L2 & Dropout, it seemed that using a L2 regulizer or combining L2 & Dropout technique worked better and a visual representation if given in the graph above. "
      ]
    },
    {
      "cell_type": "markdown",
      "metadata": {
        "id": "xuf26wOMHdSQ"
      },
      "source": [
        "**Overall, through Q1 and Q2, can you summarize what you have learned regarding modeling and training?**\n",
        "\n",
        "\n",
        "\n",
        "*   Increasing the model complexity leads to overfitting\n",
        "*   Increasing the number of hidden layers does not result in a better performing model\n",
        "*   Increasing the number of units in the hidden layer does not result in a better performing model.\n",
        "*   All the three regularization techniques 'L1 & L2 Regularization', 'Dropout technique', 'Batch Normalization' can prevent overfitting but not all three work the best in every situation, one must implement a regularization technique or a combination of them based on the given problem to avoid overfitting.  \n",
        "*  Tuning of hyperparameters is very important in order to get a good performing model. \n",
        "\n",
        "\n",
        "\n",
        "\n",
        "\n",
        "\n",
        "\n"
      ]
    },
    {
      "cell_type": "markdown",
      "metadata": {
        "id": "RpgUR_RIvncV"
      },
      "source": [
        "### Imbalanced Dataset\n",
        "\n",
        "Here we have a very imbalance dataset. Many classes only have a few training samples. As a result, when you display the classification report (see below), you'll see precision/recall/f1 is very low for some classes. \n",
        "\n",
        "Assuming that it is very difficult to collect extra samples, could you think of one method to improve the peformance of some underpresented classes without hurting the overall performance?\n",
        "\n",
        "Implement your method and demonstrate the improvement you can achieve. \n",
        "\n",
        "Please describe your method as markdowns and explain why this method can address dataset skewness."
      ]
    },
    {
      "cell_type": "code",
      "metadata": {
        "id": "vtgfI7PSvncW"
      },
      "source": [
        "# Classification report of Model in Q2\n",
        "\n",
        "#print(classification_report(Y, P))"
      ],
      "execution_count": null,
      "outputs": []
    },
    {
      "cell_type": "markdown",
      "metadata": {
        "id": "IEu0Pr-i4n_7"
      },
      "source": [
        "**Weighting Samples**"
      ]
    },
    {
      "cell_type": "code",
      "metadata": {
        "id": "Sq8z5irFof5n"
      },
      "source": [
        "#Because there’s a class imbalance, we use stratified split to create our train and test sets.\n",
        "target_list = []\n",
        "i = 0\n",
        "for i in train_labels:\n",
        "    target_list.append(i)                                           \n",
        "    \n",
        "target_list = torch.tensor(target_list)\n",
        "target_list = target_list[torch.randperm(len(target_list))]"
      ],
      "execution_count": null,
      "outputs": []
    },
    {
      "cell_type": "code",
      "metadata": {
        "id": "nD4p6Ik0om80"
      },
      "source": [
        "#Obtaining the count of all classes in our training set.\n",
        "Count_vals = pd.Series(train_labels).value_counts()"
      ],
      "execution_count": null,
      "outputs": []
    },
    {
      "cell_type": "code",
      "metadata": {
        "colab": {
          "base_uri": "https://localhost:8080/"
        },
        "id": "X1VA4qiTos26",
        "outputId": "5052b362-4f4a-4d85-9378-a04b9f4fbd22"
      },
      "source": [
        "#We use the reciprocal of each count to obtain it’s weight.\n",
        "class_count = [i for i in Count_vals]\n",
        "class_weights = 1./torch.tensor(class_count, dtype=torch.float) \n",
        "\n",
        "print(class_weights)"
      ],
      "execution_count": null,
      "outputs": [
        {
          "output_type": "stream",
          "name": "stdout",
          "text": [
            "tensor([0.0003, 0.0005, 0.0018, 0.0023, 0.0023, 0.0026, 0.0037, 0.0058, 0.0072,\n",
            "        0.0081, 0.0099, 0.0100, 0.0109, 0.0135, 0.0152, 0.0161, 0.0182, 0.0200,\n",
            "        0.0204, 0.0204, 0.0208, 0.0208, 0.0222, 0.0244, 0.0256, 0.0256, 0.0278,\n",
            "        0.0312, 0.0333, 0.0385, 0.0417, 0.0417, 0.0476, 0.0500, 0.0526, 0.0526,\n",
            "        0.0526, 0.0556, 0.0588, 0.0625, 0.0667, 0.0667, 0.0769, 0.0833, 0.0909,\n",
            "        0.1000])\n"
          ]
        }
      ]
    },
    {
      "cell_type": "code",
      "metadata": {
        "id": "jiMyamxfoxNZ"
      },
      "source": [
        "#Weighting each sample\n",
        "class_weights_all = class_weights[target_list]"
      ],
      "execution_count": null,
      "outputs": []
    },
    {
      "cell_type": "code",
      "metadata": {
        "id": "7SbYpwAwozTr"
      },
      "source": [
        "#Initializing WeightedRandomSampler\n",
        "weighted_sampler = WeightedRandomSampler(\n",
        "    weights=class_weights_all,\n",
        "    num_samples=len(class_weights_all),\n",
        "    replacement=True\n",
        ")"
      ],
      "execution_count": null,
      "outputs": []
    },
    {
      "cell_type": "code",
      "metadata": {
        "id": "M_IqwbROtUoI"
      },
      "source": [
        "preds = []"
      ],
      "execution_count": null,
      "outputs": []
    },
    {
      "cell_type": "code",
      "metadata": {
        "id": "pY6Oj-eYo04I"
      },
      "source": [
        "# Define a train function\n",
        "\n",
        "\n",
        "\n",
        "def new_train_model(model, train_dataset, test_dataset, device, lr=0.0002, epochs=30, batch_size=256, l2= 0):  \n",
        "    \n",
        "    history = {'train_loss': [], \n",
        "               'train_acc': [],\n",
        "               'test_loss': [],\n",
        "               'test_acc': []}\n",
        "    \n",
        "    # add your code\n",
        "\n",
        "    train_loader = DataLoader(train_dataset, batch_size=batch_size, sampler=weighted_sampler)    #Adding Sampler\n",
        "    test_loader = DataLoader(test_dataset, batch_size=batch_size)\n",
        "\n",
        "    \n",
        "    model = model.to(device)   \n",
        "\n",
        "  \n",
        "    criterion = nn.CrossEntropyLoss()\n",
        "    optimizer = torch.optim.RMSprop(model.parameters(), lr=lr, weight_decay= l2) \n",
        "\n",
        "    \n",
        "    print('Training Start')\n",
        "    for epoch in range(epochs):\n",
        "        model.train()\n",
        "        train_loss = 0\n",
        "        train_acc = 0\n",
        "        test_loss = 0\n",
        "        test_acc = 0\n",
        "        for x, y in train_loader:\n",
        "          \n",
        "            x = x.to(device)\n",
        "            y = y.to(device)\n",
        "            \n",
        "            outputs = model(x) \n",
        "            score, pred = torch.max(outputs, 1)    \n",
        "            cur_train_loss = criterion(outputs, y)\n",
        "            cur_train_acc = (pred == y).sum().item() / batch_size\n",
        "            \n",
        "            cur_train_loss.backward()\n",
        "            optimizer.step()\n",
        "            optimizer.zero_grad()\n",
        "            \n",
        "            train_loss += cur_train_loss\n",
        "            train_acc += cur_train_acc\n",
        "\n",
        "\n",
        "        model.eval()\n",
        "        with torch.no_grad():\n",
        "            for x, y in test_loader:\n",
        "                \n",
        "                x = x.to(device)\n",
        "                y = y.to(device)\n",
        "                \n",
        "                outputs = model(x) \n",
        "                score, pred = torch.max(outputs,1)                  \n",
        "                cur_test_loss = criterion(outputs, y)\n",
        "                cur_test_acc = (pred == y).sum().item() / batch_size             \n",
        "                \n",
        "                test_loss += cur_test_loss\n",
        "                test_acc += cur_test_acc    \n",
        "               # y_pred_list.append(pred.cpu().detach().numpy()[0])\n",
        "\n",
        "        train_loss = (train_loss/len(train_loader)).item()\n",
        "        train_acc = train_acc/len(train_loader)\n",
        "        val_loss = (test_loss/len(test_loader)).item()\n",
        "        val_acc = test_acc/len(test_loader)\n",
        "        history['train_loss'].append(train_loss)\n",
        "        history['train_acc'].append(train_acc)\n",
        "        history['test_loss'].append(val_loss)\n",
        "        history['test_acc'].append(val_acc)\n",
        "        print(f\"Epoch:{epoch + 1} / {epochs}, train loss:{train_loss:.5f} train_acc:{train_acc:.5f}, Test loss:{val_loss:.5f} Test acc:{val_acc:.5f}\")\n",
        "        \n",
        "  \n",
        "    return history\n",
        "\n",
        "    "
      ],
      "execution_count": null,
      "outputs": []
    },
    {
      "cell_type": "code",
      "metadata": {
        "id": "kK6ipL8SpEyJ"
      },
      "source": [
        "device = torch.device(\"cuda\" if torch.cuda.is_available() else \"cpu\")"
      ],
      "execution_count": null,
      "outputs": []
    },
    {
      "cell_type": "code",
      "metadata": {
        "colab": {
          "base_uri": "https://localhost:8080/"
        },
        "id": "3IBKwPHjpJLc",
        "outputId": "9b76516f-a654-478a-af36-ab85f1e7626e"
      },
      "source": [
        "# Train Model \n",
        "\n",
        "# dataset\n",
        "train_dataset = news_dataset(x_train, y_train)\n",
        "test_dataset = news_dataset(x_test, y_test)\n",
        "\n",
        "# load model\n",
        "modelz = linear_model(h1 = 128)\n",
        "summary(modelz, (24, 10000))\n",
        "histx = new_train_model(modelz, train_dataset, test_dataset, device, epochs=50, l2 = 0)    "
      ],
      "execution_count": null,
      "outputs": [
        {
          "output_type": "execute_result",
          "data": {
            "text/plain": [
              "==========================================================================================\n",
              "Layer (type:depth-idx)                   Output Shape              Param #\n",
              "==========================================================================================\n",
              "linear_model                             --                        --\n",
              "├─Sequential: 1-1                        [24, 46]                  --\n",
              "│    └─Linear: 2-1                       [24, 128]                 1,280,128\n",
              "│    └─ReLU: 2-2                         [24, 128]                 --\n",
              "│    └─Linear: 2-3                       [24, 46]                  5,934\n",
              "==========================================================================================\n",
              "Total params: 1,286,062\n",
              "Trainable params: 1,286,062\n",
              "Non-trainable params: 0\n",
              "Total mult-adds (M): 30.87\n",
              "==========================================================================================\n",
              "Input size (MB): 0.96\n",
              "Forward/backward pass size (MB): 0.03\n",
              "Params size (MB): 5.14\n",
              "Estimated Total Size (MB): 6.14\n",
              "=========================================================================================="
            ]
          },
          "metadata": {},
          "execution_count": 41
        },
        {
          "output_type": "stream",
          "name": "stdout",
          "text": [
            "Training Start\n",
            "Epoch:1 / 50, train loss:2.42863 train_acc:0.60373, Test loss:1.95887 Test acc:0.61285\n",
            "Epoch:2 / 50, train loss:1.44464 train_acc:0.72179, Test loss:1.58999 Test acc:0.65365\n",
            "Epoch:3 / 50, train loss:1.15611 train_acc:0.75684, Test loss:1.41776 Test acc:0.67882\n",
            "Epoch:4 / 50, train loss:0.96362 train_acc:0.79319, Test loss:1.31928 Test acc:0.68707\n",
            "Epoch:5 / 50, train loss:0.83819 train_acc:0.81554, Test loss:1.24336 Test acc:0.70877\n",
            "Epoch:6 / 50, train loss:0.71201 train_acc:0.83789, Test loss:1.19241 Test acc:0.71918\n",
            "Epoch:7 / 50, train loss:0.64278 train_acc:0.85276, Test loss:1.14767 Test acc:0.73351\n",
            "Epoch:8 / 50, train loss:0.54156 train_acc:0.87956, Test loss:1.11036 Test acc:0.74045\n",
            "Epoch:9 / 50, train loss:0.50688 train_acc:0.88661, Test loss:1.07988 Test acc:0.74436\n",
            "Epoch:10 / 50, train loss:0.47664 train_acc:0.88780, Test loss:1.05533 Test acc:0.74696\n",
            "Epoch:11 / 50, train loss:0.42010 train_acc:0.90191, Test loss:1.03084 Test acc:0.75347\n",
            "Epoch:12 / 50, train loss:0.39882 train_acc:0.90137, Test loss:1.01212 Test acc:0.76128\n",
            "Epoch:13 / 50, train loss:0.35721 train_acc:0.91536, Test loss:0.99386 Test acc:0.75868\n",
            "Epoch:14 / 50, train loss:0.32099 train_acc:0.91840, Test loss:0.97725 Test acc:0.76519\n",
            "Epoch:15 / 50, train loss:0.29444 train_acc:0.92426, Test loss:0.96274 Test acc:0.76476\n",
            "Epoch:16 / 50, train loss:0.26464 train_acc:0.92893, Test loss:0.96128 Test acc:0.76649\n",
            "Epoch:17 / 50, train loss:0.25357 train_acc:0.92828, Test loss:0.94098 Test acc:0.77257\n",
            "Epoch:18 / 50, train loss:0.23234 train_acc:0.93294, Test loss:0.93074 Test acc:0.77387\n",
            "Epoch:19 / 50, train loss:0.21999 train_acc:0.93490, Test loss:0.92821 Test acc:0.77474\n",
            "Epoch:20 / 50, train loss:0.20635 train_acc:0.93316, Test loss:0.93485 Test acc:0.76866\n",
            "Epoch:21 / 50, train loss:0.18540 train_acc:0.93783, Test loss:0.91729 Test acc:0.77561\n",
            "Epoch:22 / 50, train loss:0.18275 train_acc:0.94141, Test loss:0.92114 Test acc:0.77170\n",
            "Epoch:23 / 50, train loss:0.16640 train_acc:0.93989, Test loss:0.91523 Test acc:0.77387\n",
            "Epoch:24 / 50, train loss:0.14621 train_acc:0.94520, Test loss:0.90989 Test acc:0.77691\n",
            "Epoch:25 / 50, train loss:0.15652 train_acc:0.94162, Test loss:0.90639 Test acc:0.78082\n",
            "Epoch:26 / 50, train loss:0.14969 train_acc:0.94260, Test loss:0.90883 Test acc:0.78299\n",
            "Epoch:27 / 50, train loss:0.13711 train_acc:0.94531, Test loss:0.91289 Test acc:0.77778\n",
            "Epoch:28 / 50, train loss:0.14488 train_acc:0.94434, Test loss:0.93172 Test acc:0.77214\n",
            "Epoch:29 / 50, train loss:0.13059 train_acc:0.94553, Test loss:0.90396 Test acc:0.78125\n",
            "Epoch:30 / 50, train loss:0.12833 train_acc:0.94596, Test loss:0.91083 Test acc:0.78038\n"
          ]
        }
      ]
    },
    {
      "cell_type": "code",
      "metadata": {
        "colab": {
          "base_uri": "https://localhost:8080/"
        },
        "id": "C19bxewJbNIj",
        "outputId": "7a4e3ae0-091e-4b9f-e12c-34ba36377a61"
      },
      "source": [
        "test_loader = DataLoader(test_dataset)\n",
        "model = modelz.to(device)\n",
        "model.eval()\n",
        "y_pred_list = []\n",
        "with torch.no_grad():\n",
        "    for x,y in test_loader:\n",
        "        x = x.to(device)\n",
        "        outputs = modelz(x)\n",
        "        score,pred = torch.max(outputs, 1)\n",
        "        y_pred_list.append(pred.cpu().detach().numpy()[0])\n",
        "\n",
        "y_true = y_test\n",
        "y_pred = np.array(y_pred_list)"
      ],
      "execution_count": null,
      "outputs": [
        {
          "output_type": "execute_result",
          "data": {
            "text/plain": [
              "linear_model(\n",
              "  (classifier): Sequential(\n",
              "    (0): Linear(in_features=10000, out_features=128, bias=True)\n",
              "    (1): ReLU()\n",
              "    (2): Linear(in_features=128, out_features=46, bias=True)\n",
              "  )\n",
              ")"
            ]
          },
          "metadata": {},
          "execution_count": 38
        }
      ]
    },
    {
      "cell_type": "code",
      "metadata": {
        "id": "5llhDEMFpLyq",
        "colab": {
          "base_uri": "https://localhost:8080/"
        },
        "outputId": "9faec66c-1c96-46bf-adc1-18ee8e7f4a61"
      },
      "source": [
        "from sklearn.metrics import classification_report\n",
        "classification_report(y_true, y_pred, output_dict=True)"
      ],
      "execution_count": null,
      "outputs": [
        {
          "output_type": "stream",
          "name": "stderr",
          "text": [
            "/usr/local/lib/python3.7/dist-packages/sklearn/metrics/_classification.py:1272: UndefinedMetricWarning: Precision and F-score are ill-defined and being set to 0.0 in labels with no predicted samples. Use `zero_division` parameter to control this behavior.\n",
            "  _warn_prf(average, modifier, msg_start, len(result))\n"
          ]
        },
        {
          "output_type": "execute_result",
          "data": {
            "text/plain": [
              "{'0': {'f1-score': 0.761904761904762,\n",
              "  'precision': 0.8888888888888888,\n",
              "  'recall': 0.6666666666666666,\n",
              "  'support': 12},\n",
              " '1': {'f1-score': 0.7359307359307359,\n",
              "  'precision': 0.6746031746031746,\n",
              "  'recall': 0.8095238095238095,\n",
              "  'support': 105},\n",
              " '10': {'f1-score': 0.8813559322033899,\n",
              "  'precision': 0.896551724137931,\n",
              "  'recall': 0.8666666666666667,\n",
              "  'support': 30},\n",
              " '11': {'f1-score': 0.6594594594594596,\n",
              "  'precision': 0.5980392156862745,\n",
              "  'recall': 0.7349397590361446,\n",
              "  'support': 83},\n",
              " '12': {'f1-score': 0.3,\n",
              "  'precision': 0.42857142857142855,\n",
              "  'recall': 0.23076923076923078,\n",
              "  'support': 13},\n",
              " '13': {'f1-score': 0.6027397260273972,\n",
              "  'precision': 0.6111111111111112,\n",
              "  'recall': 0.5945945945945946,\n",
              "  'support': 37},\n",
              " '14': {'f1-score': 0.0, 'precision': 0.0, 'recall': 0.0, 'support': 2},\n",
              " '15': {'f1-score': 0.1818181818181818,\n",
              "  'precision': 0.5,\n",
              "  'recall': 0.1111111111111111,\n",
              "  'support': 9},\n",
              " '16': {'f1-score': 0.7109004739336493,\n",
              "  'precision': 0.6696428571428571,\n",
              "  'recall': 0.7575757575757576,\n",
              "  'support': 99},\n",
              " '17': {'f1-score': 0.375, 'precision': 0.75, 'recall': 0.25, 'support': 12},\n",
              " '18': {'f1-score': 0.6153846153846154,\n",
              "  'precision': 0.631578947368421,\n",
              "  'recall': 0.6,\n",
              "  'support': 20},\n",
              " '19': {'f1-score': 0.6666666666666667,\n",
              "  'precision': 0.664179104477612,\n",
              "  'recall': 0.6691729323308271,\n",
              "  'support': 133},\n",
              " '2': {'f1-score': 0.7027027027027027,\n",
              "  'precision': 0.7647058823529411,\n",
              "  'recall': 0.65,\n",
              "  'support': 20},\n",
              " '20': {'f1-score': 0.5481481481481482,\n",
              "  'precision': 0.5692307692307692,\n",
              "  'recall': 0.5285714285714286,\n",
              "  'support': 70},\n",
              " '21': {'f1-score': 0.7142857142857143,\n",
              "  'precision': 0.6896551724137931,\n",
              "  'recall': 0.7407407407407407,\n",
              "  'support': 27},\n",
              " '22': {'f1-score': 0.0, 'precision': 0.0, 'recall': 0.0, 'support': 7},\n",
              " '23': {'f1-score': 0.6086956521739131,\n",
              "  'precision': 0.6363636363636364,\n",
              "  'recall': 0.5833333333333334,\n",
              "  'support': 12},\n",
              " '24': {'f1-score': 0.3448275862068966,\n",
              "  'precision': 0.5,\n",
              "  'recall': 0.2631578947368421,\n",
              "  'support': 19},\n",
              " '25': {'f1-score': 0.7037037037037037,\n",
              "  'precision': 0.8260869565217391,\n",
              "  'recall': 0.6129032258064516,\n",
              "  'support': 31},\n",
              " '26': {'f1-score': 0.9333333333333333,\n",
              "  'precision': 1.0,\n",
              "  'recall': 0.875,\n",
              "  'support': 8},\n",
              " '27': {'f1-score': 0.4, 'precision': 1.0, 'recall': 0.25, 'support': 4},\n",
              " '28': {'f1-score': 0.3, 'precision': 0.3, 'recall': 0.3, 'support': 10},\n",
              " '29': {'f1-score': 0.4444444444444445,\n",
              "  'precision': 0.4,\n",
              "  'recall': 0.5,\n",
              "  'support': 4},\n",
              " '3': {'f1-score': 0.925211097708082,\n",
              "  'precision': 0.9076923076923077,\n",
              "  'recall': 0.9434194341943419,\n",
              "  'support': 813},\n",
              " '30': {'f1-score': 0.4444444444444444,\n",
              "  'precision': 0.6666666666666666,\n",
              "  'recall': 0.3333333333333333,\n",
              "  'support': 12},\n",
              " '31': {'f1-score': 0.7000000000000001,\n",
              "  'precision': 1.0,\n",
              "  'recall': 0.5384615384615384,\n",
              "  'support': 13},\n",
              " '32': {'f1-score': 0.8421052631578948,\n",
              "  'precision': 0.8888888888888888,\n",
              "  'recall': 0.8,\n",
              "  'support': 10},\n",
              " '33': {'f1-score': 0.8000000000000002,\n",
              "  'precision': 0.8,\n",
              "  'recall': 0.8,\n",
              "  'support': 5},\n",
              " '34': {'f1-score': 0.4,\n",
              "  'precision': 0.6666666666666666,\n",
              "  'recall': 0.2857142857142857,\n",
              "  'support': 7},\n",
              " '35': {'f1-score': 0.6666666666666666,\n",
              "  'precision': 1.0,\n",
              "  'recall': 0.5,\n",
              "  'support': 6},\n",
              " '36': {'f1-score': 0.13333333333333333,\n",
              "  'precision': 0.25,\n",
              "  'recall': 0.09090909090909091,\n",
              "  'support': 11},\n",
              " '37': {'f1-score': 0.5, 'precision': 0.5, 'recall': 0.5, 'support': 2},\n",
              " '38': {'f1-score': 0.5,\n",
              "  'precision': 1.0,\n",
              "  'recall': 0.3333333333333333,\n",
              "  'support': 3},\n",
              " '39': {'f1-score': 0.33333333333333337,\n",
              "  'precision': 1.0,\n",
              "  'recall': 0.2,\n",
              "  'support': 5},\n",
              " '4': {'f1-score': 0.8498985801217038,\n",
              "  'precision': 0.818359375,\n",
              "  'recall': 0.8839662447257384,\n",
              "  'support': 474},\n",
              " '40': {'f1-score': 0.18181818181818182,\n",
              "  'precision': 1.0,\n",
              "  'recall': 0.1,\n",
              "  'support': 10},\n",
              " '41': {'f1-score': 0.3333333333333333,\n",
              "  'precision': 0.5,\n",
              "  'recall': 0.25,\n",
              "  'support': 8},\n",
              " '42': {'f1-score': 0.5,\n",
              "  'precision': 1.0,\n",
              "  'recall': 0.3333333333333333,\n",
              "  'support': 3},\n",
              " '43': {'f1-score': 0.923076923076923,\n",
              "  'precision': 0.8571428571428571,\n",
              "  'recall': 1.0,\n",
              "  'support': 6},\n",
              " '44': {'f1-score': 0.888888888888889,\n",
              "  'precision': 1.0,\n",
              "  'recall': 0.8,\n",
              "  'support': 5},\n",
              " '45': {'f1-score': 1.0, 'precision': 1.0, 'recall': 1.0, 'support': 1},\n",
              " '5': {'f1-score': 0.0, 'precision': 0.0, 'recall': 0.0, 'support': 5},\n",
              " '6': {'f1-score': 0.8275862068965518,\n",
              "  'precision': 0.8,\n",
              "  'recall': 0.8571428571428571,\n",
              "  'support': 14},\n",
              " '7': {'f1-score': 0.5,\n",
              "  'precision': 1.0,\n",
              "  'recall': 0.3333333333333333,\n",
              "  'support': 3},\n",
              " '8': {'f1-score': 0.6944444444444445,\n",
              "  'precision': 0.7352941176470589,\n",
              "  'recall': 0.6578947368421053,\n",
              "  'support': 38},\n",
              " '9': {'f1-score': 0.8085106382978724,\n",
              "  'precision': 0.8636363636363636,\n",
              "  'recall': 0.76,\n",
              "  'support': 25},\n",
              " 'accuracy': 0.796527159394479,\n",
              " 'macro avg': {'f1-score': 0.5639989820402037,\n",
              "  'precision': 0.7011642633089431,\n",
              "  'recall': 0.5194688841910194,\n",
              "  'support': 2246},\n",
              " 'weighted avg': {'f1-score': 0.7851736383644926,\n",
              "  'precision': 0.7899025367806548,\n",
              "  'recall': 0.796527159394479,\n",
              "  'support': 2246}}"
            ]
          },
          "metadata": {},
          "execution_count": 39
        }
      ]
    },
    {
      "cell_type": "code",
      "metadata": {
        "colab": {
          "base_uri": "https://localhost:8080/"
        },
        "id": "6p-qDmz8f-rm",
        "outputId": "337dc17c-1f3e-4a42-e907-2f80b5207e47"
      },
      "source": [
        "report = classification_report(y_true, y_pred, output_dict=True)\n",
        "df = pd.DataFrame(report).transpose()\n",
        "print(df)"
      ],
      "execution_count": null,
      "outputs": [
        {
          "output_type": "stream",
          "name": "stdout",
          "text": [
            "              precision    recall  f1-score      support\n",
            "0              0.888889  0.666667  0.761905    12.000000\n",
            "1              0.674603  0.809524  0.735931   105.000000\n",
            "2              0.764706  0.650000  0.702703    20.000000\n",
            "3              0.907692  0.943419  0.925211   813.000000\n",
            "4              0.818359  0.883966  0.849899   474.000000\n",
            "5              0.000000  0.000000  0.000000     5.000000\n",
            "6              0.800000  0.857143  0.827586    14.000000\n",
            "7              1.000000  0.333333  0.500000     3.000000\n",
            "8              0.735294  0.657895  0.694444    38.000000\n",
            "9              0.863636  0.760000  0.808511    25.000000\n",
            "10             0.896552  0.866667  0.881356    30.000000\n",
            "11             0.598039  0.734940  0.659459    83.000000\n",
            "12             0.428571  0.230769  0.300000    13.000000\n",
            "13             0.611111  0.594595  0.602740    37.000000\n",
            "14             0.000000  0.000000  0.000000     2.000000\n",
            "15             0.500000  0.111111  0.181818     9.000000\n",
            "16             0.669643  0.757576  0.710900    99.000000\n",
            "17             0.750000  0.250000  0.375000    12.000000\n",
            "18             0.631579  0.600000  0.615385    20.000000\n",
            "19             0.664179  0.669173  0.666667   133.000000\n",
            "20             0.569231  0.528571  0.548148    70.000000\n",
            "21             0.689655  0.740741  0.714286    27.000000\n",
            "22             0.000000  0.000000  0.000000     7.000000\n",
            "23             0.636364  0.583333  0.608696    12.000000\n",
            "24             0.500000  0.263158  0.344828    19.000000\n",
            "25             0.826087  0.612903  0.703704    31.000000\n",
            "26             1.000000  0.875000  0.933333     8.000000\n",
            "27             1.000000  0.250000  0.400000     4.000000\n",
            "28             0.300000  0.300000  0.300000    10.000000\n",
            "29             0.400000  0.500000  0.444444     4.000000\n",
            "30             0.666667  0.333333  0.444444    12.000000\n",
            "31             1.000000  0.538462  0.700000    13.000000\n",
            "32             0.888889  0.800000  0.842105    10.000000\n",
            "33             0.800000  0.800000  0.800000     5.000000\n",
            "34             0.666667  0.285714  0.400000     7.000000\n",
            "35             1.000000  0.500000  0.666667     6.000000\n",
            "36             0.250000  0.090909  0.133333    11.000000\n",
            "37             0.500000  0.500000  0.500000     2.000000\n",
            "38             1.000000  0.333333  0.500000     3.000000\n",
            "39             1.000000  0.200000  0.333333     5.000000\n",
            "40             1.000000  0.100000  0.181818    10.000000\n",
            "41             0.500000  0.250000  0.333333     8.000000\n",
            "42             1.000000  0.333333  0.500000     3.000000\n",
            "43             0.857143  1.000000  0.923077     6.000000\n",
            "44             1.000000  0.800000  0.888889     5.000000\n",
            "45             1.000000  1.000000  1.000000     1.000000\n",
            "accuracy       0.796527  0.796527  0.796527     0.796527\n",
            "macro avg      0.701164  0.519469  0.563999  2246.000000\n",
            "weighted avg   0.789903  0.796527  0.785174  2246.000000\n"
          ]
        },
        {
          "output_type": "stream",
          "name": "stderr",
          "text": [
            "/usr/local/lib/python3.7/dist-packages/sklearn/metrics/_classification.py:1272: UndefinedMetricWarning: Precision and F-score are ill-defined and being set to 0.0 in labels with no predicted samples. Use `zero_division` parameter to control this behavior.\n",
            "  _warn_prf(average, modifier, msg_start, len(result))\n"
          ]
        }
      ]
    },
    {
      "cell_type": "markdown",
      "metadata": {
        "id": "NA88MXnCxdB0"
      },
      "source": [
        "**Explanation**\n",
        "\n",
        "Because there’s a class imbalance, we use stratified split to create our train, validation, and test sets.\n",
        "While it helps, it still does not ensure that each mini-batch of our model see’s all our classes. We need to over-sample the classes with less number of values. To do that, we use the WeightedRandomSampler.\n",
        "First, we obtain a list called target_list which contains all our outputs. This list is then converted to a tensor and shuffled.\n",
        "\n",
        "Then, we obtain the count of all classes in our training set. We use the reciprocal of each count to obtain it’s weight. Now that we’ve calculated the weights for each class, we can proceed.\n",
        "\n",
        "Finally, let’s initialize our WeightedRandomSampler. We’ll call this in our dataloader below."
      ]
    }
  ]
}