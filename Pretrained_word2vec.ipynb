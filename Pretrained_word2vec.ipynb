{
  "nbformat": 4,
  "nbformat_minor": 0,
  "metadata": {
    "colab": {
      "name": "Pretrained_word2vec.ipynb",
      "provenance": [],
      "collapsed_sections": [],
      "machine_shape": "hm"
    },
    "kernelspec": {
      "display_name": "Python 3",
      "language": "python",
      "name": "python3"
    },
    "language_info": {
      "codemirror_mode": {
        "name": "ipython",
        "version": 3
      },
      "file_extension": ".py",
      "mimetype": "text/x-python",
      "name": "python",
      "nbconvert_exporter": "python",
      "pygments_lexer": "ipython3",
      "version": "3.9.0"
    },
    "latex_envs": {
      "LaTeX_envs_menu_present": true,
      "autoclose": false,
      "autocomplete": true,
      "bibliofile": "biblio.bib",
      "cite_by": "apalike",
      "current_citInitial": 1,
      "eqLabelWithNumbers": true,
      "eqNumInitial": 1,
      "hotkeys": {
        "equation": "Ctrl-E",
        "itemize": "Ctrl-I"
      },
      "labels_anchors": false,
      "latex_user_defs": false,
      "report_style_numbering": false,
      "user_envs_cfg": false
    },
    "toc": {
      "base_numbering": 1,
      "nav_menu": {},
      "number_sections": true,
      "sideBar": true,
      "skip_h1_title": false,
      "title_cell": "Table of Contents",
      "title_sidebar": "Contents",
      "toc_cell": true,
      "toc_position": {},
      "toc_section_display": true,
      "toc_window_display": false
    }
  },
  "cells": [
    {
      "cell_type": "code",
      "metadata": {
        "ExecuteTime": {
          "end_time": "2020-11-12T08:59:53.163994Z",
          "start_time": "2020-11-12T08:59:50.479974Z"
        },
        "id": "VtyiMk6Ws1l7"
      },
      "source": [
        "import os\n",
        "import glob\n",
        "import sklearn\n",
        "import concurrent\n",
        "import numpy as np\n",
        "from PIL import Image\n",
        "import zipfile\n",
        "import shutil\n",
        "import random\n",
        "\n",
        "\n",
        "os.environ['CUDA_LAUNCH_BLOCKING'] = \"1\"\n",
        "\n",
        "# add your import here\n",
        "import torch\n",
        "import torch.nn as nn\n",
        "import torchvision\n",
        "import torchvision.transforms as transforms\n",
        "from torch.utils.data import DataLoader, random_split, Dataset\n",
        "from torchinfo import summary\n",
        "from sklearn.model_selection import train_test_split\n",
        "import matplotlib.pyplot as plt\n",
        "\n",
        "from IPython.core.interactiveshell import InteractiveShell\n",
        "InteractiveShell.ast_node_interactivity = \"all\"\n",
        "\n",
        "os.environ['CUDA_LAUNCH_BLOCKING'] = \"1\""
      ],
      "execution_count": null,
      "outputs": []
    },
    {
      "cell_type": "code",
      "metadata": {
        "id": "uxJYpmsjs1l8",
        "colab": {
          "base_uri": "https://localhost:8080/"
        },
        "outputId": "6d98789d-40e4-48a9-81ae-e2401e1d6c9e"
      },
      "source": [
        "# set random seed to so that work can be replicated\n",
        "\n",
        "random_seed = 124\n",
        "np.random.seed(random_seed)\n",
        "\n",
        "torch.manual_seed(random_seed)\n",
        "torch.backends.cudnn.deterministic = True"
      ],
      "execution_count": null,
      "outputs": [
        {
          "output_type": "execute_result",
          "data": {
            "text/plain": [
              "<torch._C.Generator at 0x7f663fec9c70>"
            ]
          },
          "metadata": {},
          "execution_count": 4
        }
      ]
    },
    {
      "cell_type": "code",
      "metadata": {
        "id": "trpq0JQyI7gN"
      },
      "source": [
        "device = torch.device(\"cuda\" if torch.cuda.is_available() else \"cpu\")"
      ],
      "execution_count": null,
      "outputs": []
    },
    {
      "cell_type": "markdown",
      "metadata": {
        "id": "caXcDR-Os1mB"
      },
      "source": [
        "## Q2: News Classification by CNN \n",
        "\n"
      ]
    },
    {
      "cell_type": "markdown",
      "metadata": {
        "id": "10r56UOqs1mC"
      },
      "source": [
        "### Q2.1 Data Processing"
      ]
    },
    {
      "cell_type": "code",
      "metadata": {
        "id": "OcMC5Z3Ls1mC"
      },
      "source": [
        "import keras\n",
        "from keras.datasets import reuters\n",
        "import pandas as pd"
      ],
      "execution_count": null,
      "outputs": []
    },
    {
      "cell_type": "code",
      "metadata": {
        "id": "UDZ6uQdks1mC",
        "colab": {
          "base_uri": "https://localhost:8080/",
          "height": 190
        },
        "outputId": "69660b55-986d-4214-d11c-0947e9b5b205"
      },
      "source": [
        "(train_data, train_labels), (test_data, test_labels) = reuters.load_data(num_words=10000)\n",
        "\n",
        "# show the sizes training/testing samples \n",
        "len(train_data)\n",
        "len(test_data)\n",
        "\n",
        "# show an example from the training dataset\n",
        "print(train_data[10])\n",
        "\n",
        "# retrieve the mapping from words to indices\n",
        "word_index = reuters.get_word_index()\n",
        "\n",
        "# reverse mapping\n",
        "reverse_word_index = dict([(value, key) for (key, value) in word_index.items()])\n",
        "\n",
        "# Note that our indices were offset by 3\n",
        "# because 0, 1 and 2 are reserved indices for \"padding\", \"start of sequence\", and \"unknown\".\n",
        "decoded_newswire = ' '.join([reverse_word_index[i - 3] for i in train_data[0] if (i-3) in reverse_word_index])\n",
        "\n",
        "decoded_newswire"
      ],
      "execution_count": null,
      "outputs": [
        {
          "output_type": "stream",
          "name": "stdout",
          "text": [
            "Downloading data from https://storage.googleapis.com/tensorflow/tf-keras-datasets/reuters.npz\n",
            "2113536/2110848 [==============================] - 0s 0us/step\n",
            "2121728/2110848 [==============================] - 0s 0us/step\n"
          ]
        },
        {
          "output_type": "execute_result",
          "data": {
            "text/plain": [
              "8982"
            ]
          },
          "metadata": {},
          "execution_count": 35
        },
        {
          "output_type": "execute_result",
          "data": {
            "text/plain": [
              "2246"
            ]
          },
          "metadata": {},
          "execution_count": 35
        },
        {
          "output_type": "stream",
          "name": "stdout",
          "text": [
            "[1, 245, 273, 207, 156, 53, 74, 160, 26, 14, 46, 296, 26, 39, 74, 2979, 3554, 14, 46, 4689, 4329, 86, 61, 3499, 4795, 14, 61, 451, 4329, 17, 12]\n",
            "Downloading data from https://storage.googleapis.com/tensorflow/tf-keras-datasets/reuters_word_index.json\n",
            "557056/550378 [==============================] - 0s 0us/step\n",
            "565248/550378 [==============================] - 0s 0us/step\n"
          ]
        },
        {
          "output_type": "execute_result",
          "data": {
            "application/vnd.google.colaboratory.intrinsic+json": {
              "type": "string"
            },
            "text/plain": [
              "'said as a result of its december acquisition of space co it expects earnings per share in 1987 of 1 15 to 1 30 dlrs per share up from 70 cts in 1986 the company said pretax net should rise to nine to 10 mln dlrs from six mln dlrs in 1986 and rental operation revenues to 19 to 22 mln dlrs from 12 5 mln dlrs it said cash flow per share this year should be 2 50 to three dlrs reuter 3'"
            ]
          },
          "metadata": {},
          "execution_count": 35
        }
      ]
    },
    {
      "cell_type": "code",
      "metadata": {
        "id": "BG4e7ERhX3gQ"
      },
      "source": [
        "# Pad or truncate sentences so that they have uniform length\n",
        "# every sentence is 500 or less\n",
        "DOC_LEN = 500\n",
        "\n",
        "# convert numpy array to list\n",
        "train_x = train_data.tolist()\n",
        "test_x = test_data.tolist()\n",
        "\n",
        "# truncate & padding function\n",
        "def truncate_or_pad(doc):\n",
        "    if len(doc) < DOC_LEN:\n",
        "        doc += [0] * (DOC_LEN - len(doc))\n",
        "    else:\n",
        "        doc = doc[:DOC_LEN]\n",
        "    return doc\n",
        "\n",
        "train_x = list(map(truncate_or_pad, train_x))\n",
        "test_x = list(map(truncate_or_pad, test_x))"
      ],
      "execution_count": null,
      "outputs": []
    },
    {
      "cell_type": "code",
      "metadata": {
        "id": "QLh63Azis1mE"
      },
      "source": [
        "# add your code to create Dataset class\n",
        "class news_dataset(Dataset):\n",
        "    def __init__(self, featuers, labels):\n",
        "        self.length = len(labels)\n",
        "        self.features = torch.IntTensor(featuers)\n",
        "        self.labels = torch.Tensor(labels).type(torch.LongTensor)\n",
        "    \n",
        "    def __getitem__(self, index):\n",
        "        return self.features[index], self.labels[index]\n",
        "    \n",
        "    def __len__(self):\n",
        "        return self.length  \n"
      ],
      "execution_count": null,
      "outputs": []
    },
    {
      "cell_type": "code",
      "metadata": {
        "id": "tw_IX7bh41Oz"
      },
      "source": [
        "train_dataset = news_dataset(train_x, train_labels)\n",
        "test_dataset = news_dataset(test_x, test_labels)"
      ],
      "execution_count": null,
      "outputs": []
    },
    {
      "cell_type": "markdown",
      "metadata": {
        "id": "ivk7wI2E6KyZ"
      },
      "source": [
        "### Define the model "
      ]
    },
    {
      "cell_type": "code",
      "metadata": {
        "id": "J9SelncTs1mE"
      },
      "source": [
        "class cnn_text(nn.Module):\n",
        "    def __init__(self, num_words_in_dict, embedding_dim, dropout_ratio):\n",
        "        super(cnn_text, self).__init__()\n",
        "        self.num_words_in_dict = num_words_in_dict\n",
        "        self.embedding_dim = embedding_dim\n",
        "        self.dropout_ratio = dropout_ratio\n",
        "   \n",
        "        self.embedding = nn.Embedding(num_embeddings=num_words_in_dict, embedding_dim=embedding_dim)  \n",
        "        self.unigram = nn.Sequential(\n",
        "        nn.Conv1d(in_channels=embedding_dim, out_channels=64, kernel_size=1),  \n",
        "        nn.ReLU(),\n",
        "        nn.MaxPool1d(kernel_size=DOC_LEN),  \n",
        "        nn.Flatten()  \n",
        "        )\n",
        "      \n",
        "        self.bigram = nn.Sequential(\n",
        "        nn.Conv1d(in_channels=embedding_dim, out_channels=64, kernel_size=2),  \n",
        "        nn.ReLU(),\n",
        "        nn.MaxPool1d(kernel_size=DOC_LEN - 2 + 1),  \n",
        "        nn.Flatten()  \n",
        "        )\n",
        "        # trigram\n",
        "        self.trigram = nn.Sequential(\n",
        "        nn.Conv1d(in_channels=embedding_dim, out_channels=64, kernel_size=3),  \n",
        "        nn.ReLU(),\n",
        "        nn.MaxPool1d(kernel_size=DOC_LEN - 3 + 1),  \n",
        "        nn.Flatten()  \n",
        "        )\n",
        "        # simple classifier\n",
        "        self.classifier = nn.Sequential(\n",
        "            nn.Dropout(dropout_ratio),\n",
        "            nn.Linear(in_features=64*3, out_features=46)\n",
        "        )\n",
        "    def forward(self, x):\n",
        "        # get embedding\n",
        "        x = self.embedding(x)\n",
        "        x = torch.transpose(x, dim0=1, dim1=2)  \n",
        "\n",
        "        # 1d cnn output\n",
        "        uni_gram_output = self.unigram(x)\n",
        "        bi_gram_output = self.bigram(x)\n",
        "        tri_gram_output = self.trigram(x)\n",
        "\n",
        "        # concatenate\n",
        "        x = torch.cat((uni_gram_output, bi_gram_output, tri_gram_output), dim=1)\n",
        "        x = self.classifier(x)\n",
        "\n",
        "        return x"
      ],
      "execution_count": null,
      "outputs": []
    },
    {
      "cell_type": "code",
      "metadata": {
        "id": "y3_84A2u662E",
        "colab": {
          "base_uri": "https://localhost:8080/"
        },
        "outputId": "f54a79c2-6bb0-48f2-9a9f-c2d20a7d5af1"
      },
      "source": [
        "visual_model = cnn_text(num_words_in_dict=10000, embedding_dim=100, dropout_ratio=0.2)\n",
        "print(visual_model)"
      ],
      "execution_count": null,
      "outputs": [
        {
          "output_type": "stream",
          "name": "stdout",
          "text": [
            "cnn_text(\n",
            "  (embedding): Embedding(10000, 100)\n",
            "  (unigram): Sequential(\n",
            "    (0): Conv1d(100, 64, kernel_size=(1,), stride=(1,))\n",
            "    (1): ReLU()\n",
            "    (2): MaxPool1d(kernel_size=500, stride=500, padding=0, dilation=1, ceil_mode=False)\n",
            "    (3): Flatten(start_dim=1, end_dim=-1)\n",
            "  )\n",
            "  (bigram): Sequential(\n",
            "    (0): Conv1d(100, 64, kernel_size=(2,), stride=(1,))\n",
            "    (1): ReLU()\n",
            "    (2): MaxPool1d(kernel_size=499, stride=499, padding=0, dilation=1, ceil_mode=False)\n",
            "    (3): Flatten(start_dim=1, end_dim=-1)\n",
            "  )\n",
            "  (trigram): Sequential(\n",
            "    (0): Conv1d(100, 64, kernel_size=(3,), stride=(1,))\n",
            "    (1): ReLU()\n",
            "    (2): MaxPool1d(kernel_size=498, stride=498, padding=0, dilation=1, ceil_mode=False)\n",
            "    (3): Flatten(start_dim=1, end_dim=-1)\n",
            "  )\n",
            "  (classifier): Sequential(\n",
            "    (0): Dropout(p=0.2, inplace=False)\n",
            "    (1): Linear(in_features=192, out_features=46, bias=True)\n",
            "  )\n",
            ")\n"
          ]
        }
      ]
    },
    {
      "cell_type": "markdown",
      "metadata": {
        "id": "tHr6gMGu6dFO"
      },
      "source": [
        "### Train the model"
      ]
    },
    {
      "cell_type": "code",
      "metadata": {
        "id": "O5S8v3JNs1mE"
      },
      "source": [
        "def train_model(model, train_dataset, test_dataset, device, \n",
        "                lr=0.0002, epochs=30, batch_size=64):\n",
        "    \n",
        "    # add your code here\n",
        "        # construct dataloader\n",
        "    train_loader = DataLoader(train_dataset, batch_size=batch_size, shuffle=True)\n",
        "    test_loader = DataLoader(test_dataset, batch_size=batch_size, shuffle=True)\n",
        "\n",
        "    # move model to device\n",
        "    model = model.to(device)\n",
        "\n",
        "    # history\n",
        "    history = {'train_loss': [],\n",
        "               'train_acc': [],\n",
        "               'test_loss': [],\n",
        "               'test_acc': []}\n",
        "\n",
        "    # setup loss function and optimizer\n",
        "    criterion = nn.CrossEntropyLoss()\n",
        "    optimizer = torch.optim.RMSprop(model.parameters(), lr=lr)\n",
        "\n",
        "    # training loop\n",
        "    print('Training Start')\n",
        "    for epoch in range(epochs):\n",
        "        model.train()\n",
        "        train_loss = 0\n",
        "        train_acc = 0\n",
        "        test_loss = 0\n",
        "        test_acc = 0\n",
        "        for x, y in train_loader:\n",
        "            x = x.to(device)\n",
        "            y = y.to(device)\n",
        "            # forward\n",
        "            outputs = model(x)\n",
        "            cur_train_loss = criterion(outputs, y)\n",
        "            _, pred = torch.max(outputs, dim=-1) \n",
        "            \n",
        "            cur_train_acc = (pred == y).sum().item() / batch_size\n",
        "            # backward\n",
        "            cur_train_loss.backward()\n",
        "            optimizer.step()\n",
        "            optimizer.zero_grad()\n",
        "            # loss and acc\n",
        "            train_loss += cur_train_loss\n",
        "            train_acc += cur_train_acc\n",
        "\n",
        "        # test start\n",
        "        model.eval()\n",
        "        with torch.no_grad():\n",
        "            for x, y in test_loader:\n",
        "                # move\n",
        "                x = x.to(device)\n",
        "                y = y.to(device)\n",
        "                # predict\n",
        "                outputs = model(x)\n",
        "                _, pred = torch.max(outputs, dim=-1)\n",
        "                \n",
        "                cur_test_loss = criterion(outputs, y)\n",
        "                cur_test_acc = (pred == y).sum().item() / batch_size \n",
        "                # loss and acc\n",
        "                test_loss += cur_test_loss\n",
        "                test_acc += cur_test_acc\n",
        "\n",
        "        # epoch output\n",
        "        train_loss = (train_loss/len(train_loader)).item()\n",
        "        train_acc = train_acc/len(train_loader)\n",
        "        val_loss = (test_loss/len(test_loader)).item()\n",
        "        val_acc = test_acc/len(test_loader)\n",
        "        history['train_loss'].append(train_loss)\n",
        "        history['train_acc'].append(train_acc)\n",
        "        history['test_loss'].append(val_loss)\n",
        "        history['test_acc'].append(val_acc)\n",
        "        print(f\"Epoch:{epoch + 1} / {epochs}, train loss:{train_loss:.5f} train_acc:{train_acc:.5f}      valid loss:{val_loss:.5f} valid acc:{val_acc:.5f}\")\n",
        "    \n",
        "    return history"
      ],
      "execution_count": null,
      "outputs": []
    },
    {
      "cell_type": "code",
      "metadata": {
        "id": "gds97QZHX3gS"
      },
      "source": [
        "# set up device\n",
        "device = torch.device(\"cuda\" if torch.cuda.is_available() else \"cpu\")"
      ],
      "execution_count": null,
      "outputs": []
    },
    {
      "cell_type": "code",
      "metadata": {
        "id": "aMKsN9YA5hSa",
        "colab": {
          "base_uri": "https://localhost:8080/"
        },
        "outputId": "5579ae40-ff7e-4ebe-b00f-6e2955320fbe"
      },
      "source": [
        "# add code to train the model\n",
        "model = cnn_text(num_words_in_dict=10000, embedding_dim=200, dropout_ratio=0.3)\n",
        "history = train_model(model=model,\n",
        "                      train_dataset=train_dataset,\n",
        "                      test_dataset=test_dataset,\n",
        "                      device=device,\n",
        "                      lr=0.0002,\n",
        "                      epochs=30,\n",
        "                      batch_size=128)"
      ],
      "execution_count": null,
      "outputs": [
        {
          "output_type": "stream",
          "name": "stdout",
          "text": [
            "Training Start\n",
            "Epoch:1 / 30, train loss:2.07446 train_acc:0.49186      valid loss:1.73193 valid acc:0.57335\n",
            "Epoch:2 / 30, train loss:1.70207 train_acc:0.58462      valid loss:1.56422 valid acc:0.64540\n",
            "Epoch:3 / 30, train loss:1.56514 train_acc:0.63061      valid loss:1.46891 valid acc:0.66189\n",
            "Epoch:4 / 30, train loss:1.45637 train_acc:0.65394      valid loss:1.39050 valid acc:0.66580\n",
            "Epoch:5 / 30, train loss:1.38167 train_acc:0.67276      valid loss:1.33850 valid acc:0.67144\n",
            "Epoch:6 / 30, train loss:1.31295 train_acc:0.68178      valid loss:1.29102 valid acc:0.68359\n",
            "Epoch:7 / 30, train loss:1.25547 train_acc:0.69905      valid loss:1.23931 valid acc:0.69358\n",
            "Epoch:8 / 30, train loss:1.20185 train_acc:0.70643      valid loss:1.19071 valid acc:0.70182\n",
            "Epoch:9 / 30, train loss:1.16883 train_acc:0.72040      valid loss:1.16557 valid acc:0.71050\n",
            "Epoch:10 / 30, train loss:1.10127 train_acc:0.73096      valid loss:1.12246 valid acc:0.72309\n",
            "Epoch:11 / 30, train loss:1.07480 train_acc:0.73999      valid loss:1.09767 valid acc:0.72439\n",
            "Epoch:12 / 30, train loss:1.03716 train_acc:0.74912      valid loss:1.06844 valid acc:0.73698\n",
            "Epoch:13 / 30, train loss:1.00226 train_acc:0.75671      valid loss:1.04791 valid acc:0.73958\n",
            "Epoch:14 / 30, train loss:0.98059 train_acc:0.76452      valid loss:1.00950 valid acc:0.74913\n",
            "Epoch:15 / 30, train loss:0.94596 train_acc:0.76122      valid loss:0.98915 valid acc:0.75087\n",
            "Epoch:16 / 30, train loss:0.92545 train_acc:0.77014      valid loss:0.98259 valid acc:0.75608\n",
            "Epoch:17 / 30, train loss:0.91016 train_acc:0.77333      valid loss:0.95661 valid acc:0.75738\n",
            "Epoch:18 / 30, train loss:0.86883 train_acc:0.77740      valid loss:0.93224 valid acc:0.75955\n",
            "Epoch:19 / 30, train loss:0.84817 train_acc:0.78246      valid loss:0.92437 valid acc:0.76345\n",
            "Epoch:20 / 30, train loss:0.82566 train_acc:0.78994      valid loss:0.92451 valid acc:0.76259\n",
            "Epoch:21 / 30, train loss:0.81249 train_acc:0.79049      valid loss:0.90833 valid acc:0.76562\n",
            "Epoch:22 / 30, train loss:0.80841 train_acc:0.79170      valid loss:0.89848 valid acc:0.76476\n",
            "Epoch:23 / 30, train loss:0.78863 train_acc:0.79654      valid loss:0.88810 valid acc:0.76649\n",
            "Epoch:24 / 30, train loss:0.75245 train_acc:0.80546      valid loss:0.88381 valid acc:0.75998\n",
            "Epoch:25 / 30, train loss:0.74367 train_acc:0.80414      valid loss:0.87298 valid acc:0.77083\n",
            "Epoch:26 / 30, train loss:0.73772 train_acc:0.80436      valid loss:0.86141 valid acc:0.77257\n",
            "Epoch:27 / 30, train loss:0.72126 train_acc:0.80810      valid loss:0.85461 valid acc:0.77648\n",
            "Epoch:28 / 30, train loss:0.70137 train_acc:0.81822      valid loss:0.84610 valid acc:0.77821\n",
            "Epoch:29 / 30, train loss:0.69791 train_acc:0.81811      valid loss:0.84864 valid acc:0.77474\n",
            "Epoch:30 / 30, train loss:0.67712 train_acc:0.81723      valid loss:0.83749 valid acc:0.77734\n"
          ]
        }
      ]
    },
    {
      "cell_type": "code",
      "metadata": {
        "ExecuteTime": {
          "end_time": "2020-11-12T09:13:30.947989Z",
          "start_time": "2020-11-12T09:13:30.680929Z"
        },
        "id": "qd3B9ynYs1mG",
        "colab": {
          "base_uri": "https://localhost:8080/",
          "height": 641
        },
        "outputId": "6d3f1faf-cb23-4ed1-ac0b-0517a30bf0d2"
      },
      "source": [
        "# show training curve\n",
        "\n",
        "epochs = range(1, len(history['train_loss']) + 1)\n",
        "\n",
        "plt.plot(epochs, history['train_loss'], 'r-', label='Train')\n",
        "plt.plot(epochs, history['test_loss'], 'b-', label='Evaluation')\n",
        "\n",
        "plt.title('Loss')\n",
        "plt.xlabel('Epochs')\n",
        "plt.ylabel('Loss')\n",
        "plt.legend()\n",
        "\n",
        "plt.show()\n",
        "\n",
        "plt.plot(epochs, history['train_acc'], 'r-', label='Train')\n",
        "plt.plot(epochs, history['test_acc'], 'b-', label='Evaluation')\n",
        "\n",
        "plt.title('Accuracy')\n",
        "plt.xlabel('Epochs')\n",
        "plt.ylabel('Acc')\n",
        "plt.legend()\n",
        "\n",
        "plt.show()"
      ],
      "execution_count": null,
      "outputs": [
        {
          "output_type": "execute_result",
          "data": {
            "text/plain": [
              "[<matplotlib.lines.Line2D at 0x7f65de733ed0>]"
            ]
          },
          "metadata": {},
          "execution_count": 48
        },
        {
          "output_type": "execute_result",
          "data": {
            "text/plain": [
              "[<matplotlib.lines.Line2D at 0x7f65e17ad6d0>]"
            ]
          },
          "metadata": {},
          "execution_count": 48
        },
        {
          "output_type": "execute_result",
          "data": {
            "text/plain": [
              "Text(0.5, 1.0, 'Loss')"
            ]
          },
          "metadata": {},
          "execution_count": 48
        },
        {
          "output_type": "execute_result",
          "data": {
            "text/plain": [
              "Text(0.5, 0, 'Epochs')"
            ]
          },
          "metadata": {},
          "execution_count": 48
        },
        {
          "output_type": "execute_result",
          "data": {
            "text/plain": [
              "Text(0, 0.5, 'Loss')"
            ]
          },
          "metadata": {},
          "execution_count": 48
        },
        {
          "output_type": "execute_result",
          "data": {
            "text/plain": [
              "<matplotlib.legend.Legend at 0x7f65e0a17d50>"
            ]
          },
          "metadata": {},
          "execution_count": 48
        },
        {
          "output_type": "display_data",
          "data": {
            "image/png": "[encoded data removed]",
            "text/plain": [
              "<Figure size 432x288 with 1 Axes>"
            ]
          },
          "metadata": {
            "needs_background": "light"
          }
        },
        {
          "output_type": "execute_result",
          "data": {
            "text/plain": [
              "[<matplotlib.lines.Line2D at 0x7f65e0996810>]"
            ]
          },
          "metadata": {},
          "execution_count": 48
        },
        {
          "output_type": "execute_result",
          "data": {
            "text/plain": [
              "[<matplotlib.lines.Line2D at 0x7f65e0996dd0>]"
            ]
          },
          "metadata": {},
          "execution_count": 48
        },
        {
          "output_type": "execute_result",
          "data": {
            "text/plain": [
              "Text(0.5, 1.0, 'Accuracy')"
            ]
          },
          "metadata": {},
          "execution_count": 48
        },
        {
          "output_type": "execute_result",
          "data": {
            "text/plain": [
              "Text(0.5, 0, 'Epochs')"
            ]
          },
          "metadata": {},
          "execution_count": 48
        },
        {
          "output_type": "execute_result",
          "data": {
            "text/plain": [
              "Text(0, 0.5, 'Acc')"
            ]
          },
          "metadata": {},
          "execution_count": 48
        },
        {
          "output_type": "execute_result",
          "data": {
            "text/plain": [
              "<matplotlib.legend.Legend at 0x7f65e09a37d0>"
            ]
          },
          "metadata": {},
          "execution_count": 48
        },
        {
          "output_type": "display_data",
          "data": {
            "image/png": "[encoded data removed]",
            "text/plain": [
              "<Figure size 432x288 with 1 Axes>"
            ]
          },
          "metadata": {
            "needs_background": "light"
          }
        }
      ]
    },
    {
      "cell_type": "markdown",
      "metadata": {
        "id": "-ZhJvT_g9b5w"
      },
      "source": [
        "### Pretrained Wore Vectors "
      ]
    },
    {
      "cell_type": "code",
      "metadata": {
        "id": "34GpvmiaX3gU"
      },
      "source": [
        "! pip install --upgrade gensim  &> /dev/null # install gensim 4.0.0 on colab"
      ],
      "execution_count": null,
      "outputs": []
    },
    {
      "cell_type": "markdown",
      "metadata": {
        "id": "SdPuUd7GKmsI"
      },
      "source": [
        "# Preprocessing "
      ]
    },
    {
      "cell_type": "code",
      "metadata": {
        "id": "2Xj5lMzo5sOw",
        "colab": {
          "base_uri": "https://localhost:8080/"
        },
        "outputId": "1186911d-45b2-490b-8e64-9777a5c31cf4"
      },
      "source": [
        "(train_data, train_labels), (test_data, test_labels) = reuters.load_data(num_words=10000)\n",
        "# word_index is a dictionary mapping words to an integer index\n",
        "word_index = reuters.get_word_index()\n",
        "\n",
        "len(word_index)\n",
        "\n",
        "reverse_word_index = dict([(value, key) for (key, value) in word_index.items()])"
      ],
      "execution_count": null,
      "outputs": [
        {
          "output_type": "execute_result",
          "data": {
            "text/plain": [
              "30979"
            ]
          },
          "metadata": {},
          "execution_count": 55
        }
      ]
    },
    {
      "cell_type": "code",
      "metadata": {
        "id": "K2nRS3xQ59QH"
      },
      "source": [
        "# get doc list\n",
        "doc_list = []\n",
        "for cur_sentence in np.concatenate((train_data, test_data)):\n",
        "    sentence_list = []\n",
        "    for cur_word_index in cur_sentence:\n",
        "        cur_word = reverse_word_index.get(cur_word_index - 3)\n",
        "        if cur_word:\n",
        "            sentence_list.append(cur_word)\n",
        "    doc_list.append(sentence_list)\n",
        "# concat labels\n",
        "doc_labels = np.concatenate((train_labels, test_labels))"
      ],
      "execution_count": null,
      "outputs": []
    },
    {
      "cell_type": "markdown",
      "metadata": {
        "id": "SkEfNK346KsI"
      },
      "source": [
        "### Train word2vec model with Gensim"
      ]
    },
    {
      "cell_type": "code",
      "metadata": {
        "id": "P1rRtKU06Jrk"
      },
      "source": [
        "from gensim.models import word2vec\n",
        "def train_word2vec(corpus, size, window, min_count, epochs, sg, workers, save):\n",
        "  model = word2vec.Word2Vec(corpus, \n",
        "                            vector_size=size,  \n",
        "                            window=window,   \n",
        "                            min_count=min_count,  \n",
        "                            epochs=epochs,  \n",
        "                            sg=sg, \n",
        "                            workers=workers,  \n",
        "                            )\n",
        "  print('Done')\n",
        "  if save:\n",
        "    print('Saving:')\n",
        "    model.save(os.path.join(cwd_path, 'word2vec.model'))\n",
        "    print('Done')\n",
        "  \n",
        "  return model"
      ],
      "execution_count": null,
      "outputs": []
    },
    {
      "cell_type": "code",
      "metadata": {
        "id": "btk4RU7x6VyF",
        "colab": {
          "base_uri": "https://localhost:8080/"
        },
        "outputId": "96fae756-20c0-4d15-ab07-f056eecc7a13"
      },
      "source": [
        "word2vec_model = train_word2vec(corpus=doc_list,\n",
        "                                size=100,\n",
        "                                window=5,\n",
        "                                min_count=4,\n",
        "                                epochs=3,\n",
        "                                sg=1,  \n",
        "                                workers=3,\n",
        "                                save=False)"
      ],
      "execution_count": null,
      "outputs": [
        {
          "output_type": "stream",
          "name": "stdout",
          "text": [
            "Done\n"
          ]
        }
      ]
    },
    {
      "cell_type": "markdown",
      "metadata": {
        "id": "6us_AyY-6a__"
      },
      "source": [
        "### Construct embedding dicionary and embedding matrix"
      ]
    },
    {
      "cell_type": "code",
      "metadata": {
        "id": "QNW393ne6YUb"
      },
      "source": [
        "# embedding dictionaries and embedding matrix\n",
        "def construct_embeddingDict(word2vec_model, max_num_words):\n",
        "  index2word = []\n",
        "  word2index = {}\n",
        "  embedding_matrix = []\n",
        "\n",
        "  counter = 0\n",
        "  for cur_word in word2vec_model.wv.key_to_index:\n",
        "    if cur_word in word2vec_model.wv:\n",
        "      word2index[cur_word] = len(word2index)\n",
        "      index2word.append(cur_word)\n",
        "      embedding_matrix.append(word2vec_model.wv[cur_word])\n",
        "    counter += 1\n",
        "    if counter >= max_num_words:\n",
        "      break\n",
        "  \n",
        "  # add <PAD> and <UNK>\n",
        "  word2index['<PAD>'] = len(word2index)\n",
        "  index2word.append('<PAD>')\n",
        "\n",
        "  embedding_matrix.append(np.zeros(len(embedding_matrix[0])))\n",
        "  word2index['<UNK>'] = len(word2index)\n",
        "  index2word.append('<UNK>')\n",
        "\n",
        "  embedding_matrix.append(np.zeros(len(embedding_matrix[0])))\n",
        "\n",
        "  return index2word, word2index, np.array(embedding_matrix)"
      ],
      "execution_count": null,
      "outputs": []
    },
    {
      "cell_type": "code",
      "metadata": {
        "id": "8AOyhAMp6kiZ"
      },
      "source": [
        "index2word, word2index, embedding_matrix = construct_embeddingDict(word2vec_model, 10000)"
      ],
      "execution_count": null,
      "outputs": []
    },
    {
      "cell_type": "markdown",
      "metadata": {
        "id": "jMOpkDJ86uYB"
      },
      "source": [
        "### Sentence length and sentence to index"
      ]
    },
    {
      "cell_type": "code",
      "metadata": {
        "id": "IrRaAZP96stU"
      },
      "source": [
        "def sentence_length(text_list, lim):\n",
        "  print('Sentence length process:')\n",
        "  for i in range(len(text_list)):\n",
        "    if len(text_list[i]) > lim:  # if length is too long, truncate\n",
        "      text_list[i] = text_list[i][:lim]\n",
        "    else:  # if length is too short, padding\n",
        "      pad_len = lim - len(text_list[i])\n",
        "      for _ in range(pad_len):\n",
        "        text_list[i].append('<PAD>')\n",
        "  print('Done')\n",
        "  \n",
        "  return text_list\n",
        "\n",
        "def sentence2index(text_list, word2index):\n",
        "  print('Sentence to index')\n",
        "  result_list = []\n",
        "  for cur_sentence in text_list:\n",
        "    cur_result = []\n",
        "    for cur_word in cur_sentence:\n",
        "      if cur_word in word2index.keys():\n",
        "        cur_result.append(word2index[cur_word])\n",
        "      else:\n",
        "        cur_result.append(word2index['<UNK>'])\n",
        "    result_list.append(cur_result)\n",
        "  print('Done')\n",
        "\n",
        "  return result_list"
      ],
      "execution_count": null,
      "outputs": []
    },
    {
      "cell_type": "code",
      "metadata": {
        "id": "urrGCV0163Vb",
        "colab": {
          "base_uri": "https://localhost:8080/"
        },
        "outputId": "b445636e-dd73-4abb-f605-bd1de2dcb45d"
      },
      "source": [
        "text_list = sentence_length(doc_list, DOC_LEN)\n",
        "text_index_list = sentence2index(text_list, word2index)"
      ],
      "execution_count": null,
      "outputs": [
        {
          "output_type": "stream",
          "name": "stdout",
          "text": [
            "Sentence length process:\n",
            "Done\n",
            "Sentence to index\n",
            "Done\n"
          ]
        }
      ]
    },
    {
      "cell_type": "markdown",
      "metadata": {
        "id": "Ybs5GuMz67xa"
      },
      "source": [
        "### 70-30 Dataset Train-Test Split"
      ]
    },
    {
      "cell_type": "code",
      "metadata": {
        "id": "vYaBGfxV67TF",
        "colab": {
          "base_uri": "https://localhost:8080/"
        },
        "outputId": "dc18680d-788d-4e2f-c32b-3344420d804d"
      },
      "source": [
        "#X_train, y_train , X_test, y_test  = train_test_split(text_index_list, doc_labels, shuffle=True, test_size=0.3, random_state=123)\n",
        "text_dataset = news_dataset(featuers=text_index_list, labels=doc_labels)\n",
        "# Create indices for the split\n",
        "len_dataset = len(text_dataset)\n",
        "train_size = int(0.7 * len_dataset)\n",
        "test_size = len_dataset - train_size\n",
        "\n",
        "train_data, test_data = random_split(text_dataset,[train_size, test_size])\n",
        "print(len(train_data))\n",
        "print(len(test_data))"
      ],
      "execution_count": null,
      "outputs": [
        {
          "output_type": "stream",
          "name": "stdout",
          "text": [
            "7859\n",
            "3369\n"
          ]
        }
      ]
    },
    {
      "cell_type": "markdown",
      "metadata": {
        "id": "PRaiJeEb7DmL"
      },
      "source": [
        "### Use pretrained embedding matrix in CNN model"
      ]
    },
    {
      "cell_type": "code",
      "metadata": {
        "id": "9h85TB7b7C5b"
      },
      "source": [
        "class TextCNN_pretrained(nn.Module):\n",
        "    def __init__(self, pre_trained_embedding, dropout_ratio):\n",
        "        super(TextCNN_pretrained, self).__init__()\n",
        "        self.pre_trained_embedding = torch.Tensor(pre_trained_embedding)       \n",
        "        self.num_embeddings = pre_trained_embedding.shape[0]\n",
        "        self.embedding_dim = pre_trained_embedding.shape[1]\n",
        "        \n",
        "        self.dropout_ratio = dropout_ratio\n",
        "        # embedding\n",
        "        self.embedding = nn.Embedding(num_embeddings=self.num_embeddings, embedding_dim=self.embedding_dim)\n",
        "        self.embedding.weight = nn.Parameter(self.pre_trained_embedding)\n",
        "        self.embedding.weight.requires_grad = True\n",
        "        # fine-tuning: self.embedding.weight.requires_grad = True\n",
        "        # 1D CNN\n",
        "        # unigram\n",
        "        self.unigram = nn.Sequential(\n",
        "        nn.Conv1d(in_channels=self.embedding_dim, out_channels=64, kernel_size=1),  \n",
        "        nn.ReLU(),\n",
        "        nn.MaxPool1d(kernel_size=DOC_LEN),  \n",
        "        nn.Flatten()  \n",
        "        )\n",
        "        # bigram\n",
        "        self.bigram = nn.Sequential(\n",
        "        nn.Conv1d(in_channels=self.embedding_dim, out_channels=64, kernel_size=2),  \n",
        "        nn.ReLU(),\n",
        "        nn.MaxPool1d(kernel_size=DOC_LEN - 2 + 1),  \n",
        "        nn.Flatten()  \n",
        "        )\n",
        "        # trigram\n",
        "        self.trigram = nn.Sequential(\n",
        "        nn.Conv1d(in_channels=self.embedding_dim, out_channels=64, kernel_size=3),  \n",
        "        nn.ReLU(),\n",
        "        nn.MaxPool1d(kernel_size=DOC_LEN - 3 + 1),  \n",
        "        nn.Flatten()  \n",
        "        )\n",
        "        # simple classifier\n",
        "        self.classifier = nn.Sequential(\n",
        "            nn.Dropout(dropout_ratio),\n",
        "            nn.Linear(in_features=64*3, out_features=46)\n",
        "        )\n",
        "    def forward(self, x):\n",
        "        # get embedding\n",
        "        x = self.embedding(x)\n",
        "        \n",
        "        x = torch.transpose(x, dim0=1, dim1=2)  \n",
        "        # 1d cnn output\n",
        "        uni_gram_output = self.unigram(x)\n",
        "        bi_gram_output = self.bigram(x)\n",
        "        tri_gram_output = self.trigram(x)\n",
        "        # concatenate\n",
        "        x = torch.cat((uni_gram_output, bi_gram_output, tri_gram_output), dim=1)\n",
        "        x = self.classifier(x)\n",
        "\n",
        "        return x"
      ],
      "execution_count": null,
      "outputs": []
    },
    {
      "cell_type": "markdown",
      "metadata": {
        "id": "wHoWcm8G7N19"
      },
      "source": [
        "### Train model "
      ]
    },
    {
      "cell_type": "code",
      "metadata": {
        "id": "RRqBedWV7SG1",
        "colab": {
          "base_uri": "https://localhost:8080/"
        },
        "outputId": "fd27331a-28a8-4acd-a302-9159385eff37"
      },
      "source": [
        "model = TextCNN_pretrained(pre_trained_embedding=embedding_matrix, dropout_ratio=0.3)\n",
        "\n",
        "history = train_model(model=model,\n",
        "                      train_dataset=train_data,\n",
        "                      test_dataset=test_data,\n",
        "                      device=device,\n",
        "                      lr=0.0005,\n",
        "                      epochs=30,\n",
        "                      batch_size=128)"
      ],
      "execution_count": null,
      "outputs": [
        {
          "output_type": "stream",
          "name": "stdout",
          "text": [
            "Training Start\n",
            "Epoch:1 / 30, train loss:1.84331 train_acc:0.55557      valid loss:1.50034 valid acc:0.65972\n",
            "Epoch:2 / 30, train loss:1.41455 train_acc:0.66318      valid loss:1.31818 valid acc:0.67535\n",
            "Epoch:3 / 30, train loss:1.28380 train_acc:0.68649      valid loss:1.21846 valid acc:0.69271\n",
            "Epoch:4 / 30, train loss:1.18003 train_acc:0.70766      valid loss:1.14404 valid acc:0.71296\n",
            "Epoch:5 / 30, train loss:1.08980 train_acc:0.73034      valid loss:1.09558 valid acc:0.72772\n",
            "Epoch:6 / 30, train loss:1.02328 train_acc:0.74836      valid loss:1.04285 valid acc:0.74277\n",
            "Epoch:7 / 30, train loss:0.96673 train_acc:0.75995      valid loss:0.99801 valid acc:0.75029\n",
            "Epoch:8 / 30, train loss:0.91348 train_acc:0.77356      valid loss:0.96156 valid acc:0.75839\n",
            "Epoch:9 / 30, train loss:0.86633 train_acc:0.78314      valid loss:0.91752 valid acc:0.76157\n",
            "Epoch:10 / 30, train loss:0.82595 train_acc:0.79398      valid loss:0.92016 valid acc:0.77373\n",
            "Epoch:11 / 30, train loss:0.79362 train_acc:0.79751      valid loss:0.89433 valid acc:0.77373\n",
            "Epoch:12 / 30, train loss:0.76103 train_acc:0.80368      valid loss:0.88814 valid acc:0.77546\n",
            "Epoch:13 / 30, train loss:0.73115 train_acc:0.81389      valid loss:0.86025 valid acc:0.78067\n",
            "Epoch:14 / 30, train loss:0.70738 train_acc:0.81893      valid loss:0.83477 valid acc:0.78819\n",
            "Epoch:15 / 30, train loss:0.67751 train_acc:0.82623      valid loss:0.82326 valid acc:0.78154\n",
            "Epoch:16 / 30, train loss:0.66572 train_acc:0.82208      valid loss:0.83649 valid acc:0.78791\n",
            "Epoch:17 / 30, train loss:0.64177 train_acc:0.82888      valid loss:0.80126 valid acc:0.78617\n",
            "Epoch:18 / 30, train loss:0.62113 train_acc:0.83884      valid loss:0.79607 valid acc:0.78935\n",
            "Epoch:19 / 30, train loss:0.59430 train_acc:0.84425      valid loss:0.78125 valid acc:0.79601\n",
            "Epoch:20 / 30, train loss:0.57581 train_acc:0.84866      valid loss:0.78333 valid acc:0.79138\n",
            "Epoch:21 / 30, train loss:0.55826 train_acc:0.85370      valid loss:0.77864 valid acc:0.79774\n",
            "Epoch:22 / 30, train loss:0.53881 train_acc:0.85446      valid loss:0.78749 valid acc:0.79890\n",
            "Epoch:23 / 30, train loss:0.51991 train_acc:0.86177      valid loss:0.77554 valid acc:0.80093\n",
            "Epoch:24 / 30, train loss:0.50395 train_acc:0.86568      valid loss:0.76835 valid acc:0.80324\n",
            "Epoch:25 / 30, train loss:0.48494 train_acc:0.87135      valid loss:0.76910 valid acc:0.80122\n",
            "Epoch:26 / 30, train loss:0.47026 train_acc:0.87336      valid loss:0.78582 valid acc:0.80179\n",
            "Epoch:27 / 30, train loss:0.46368 train_acc:0.87487      valid loss:0.75058 valid acc:0.80671\n",
            "Epoch:28 / 30, train loss:0.44426 train_acc:0.87928      valid loss:0.76518 valid acc:0.80642\n",
            "Epoch:29 / 30, train loss:0.42598 train_acc:0.88495      valid loss:0.76330 valid acc:0.80411\n",
            "Epoch:30 / 30, train loss:0.41232 train_acc:0.88735      valid loss:0.77270 valid acc:0.80237\n"
          ]
        }
      ]
    },
    {
      "cell_type": "code",
      "metadata": {
        "id": "_lJcNtt_7TLS",
        "colab": {
          "base_uri": "https://localhost:8080/",
          "height": 549
        },
        "outputId": "1d1e68f4-a10a-43c2-c3e6-cd20bf27c8ba"
      },
      "source": [
        "plt.plot(range(1, 31), history['train_loss'], label='Train')\n",
        "plt.plot(range(1, 31), history['test_loss'], label='Valid')\n",
        "plt.legend()\n",
        "plt.show()\n",
        "plt.plot(range(1, 31), history['train_acc'], label='Train')\n",
        "plt.plot(range(1, 31), history['test_acc'], label='Valid')\n",
        "plt.legend()\n",
        "plt.show()"
      ],
      "execution_count": null,
      "outputs": [
        {
          "output_type": "execute_result",
          "data": {
            "text/plain": [
              "[<matplotlib.lines.Line2D at 0x7f65e02277d0>]"
            ]
          },
          "metadata": {},
          "execution_count": 66
        },
        {
          "output_type": "execute_result",
          "data": {
            "text/plain": [
              "[<matplotlib.lines.Line2D at 0x7f65de73f490>]"
            ]
          },
          "metadata": {},
          "execution_count": 66
        },
        {
          "output_type": "execute_result",
          "data": {
            "text/plain": [
              "<matplotlib.legend.Legend at 0x7f6638589f50>"
            ]
          },
          "metadata": {},
          "execution_count": 66
        },
        {
          "output_type": "display_data",
          "data": {
            "image/png": "[encoded data removed]",
            "text/plain": [
              "<Figure size 432x288 with 1 Axes>"
            ]
          },
          "metadata": {
            "needs_background": "light"
          }
        },
        {
          "output_type": "execute_result",
          "data": {
            "text/plain": [
              "[<matplotlib.lines.Line2D at 0x7f65d8739f50>]"
            ]
          },
          "metadata": {},
          "execution_count": 66
        },
        {
          "output_type": "execute_result",
          "data": {
            "text/plain": [
              "[<matplotlib.lines.Line2D at 0x7f65ded9a410>]"
            ]
          },
          "metadata": {},
          "execution_count": 66
        },
        {
          "output_type": "execute_result",
          "data": {
            "text/plain": [
              "<matplotlib.legend.Legend at 0x7f65dfeffc90>"
            ]
          },
          "metadata": {},
          "execution_count": 66
        },
        {
          "output_type": "display_data",
          "data": {
            "image/png": "[encoded data removed]",
            "text/plain": [
              "<Figure size 432x288 with 1 Axes>"
            ]
          },
          "metadata": {
            "needs_background": "light"
          }
        }
      ]
    }
  ]
}